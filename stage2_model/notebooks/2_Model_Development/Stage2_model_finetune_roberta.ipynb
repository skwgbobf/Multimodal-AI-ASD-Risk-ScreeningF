{
 "cells": [
  {
   "cell_type": "code",
   "execution_count": null,
   "metadata": {},
   "outputs": [],
   "source": [
    "#finetune_roberta.py"
   ]
  },
  {
   "cell_type": "code",
   "execution_count": 1,
   "metadata": {},
   "outputs": [],
   "source": [
    "import pandas as pd\n",
    "json_file_path = './merged_int_SRS_df_op1_2nd_1004_Nov04F2.json'\n",
    "merged_int_SRS_df = pd.read_json(json_file_path, orient='records', lines=True)"
   ]
  },
  {
   "cell_type": "code",
   "execution_count": null,
   "metadata": {},
   "outputs": [],
   "source": [
    "# option1 : 2nd High Vs ASD"
   ]
  },
  {
   "cell_type": "code",
   "execution_count": 2,
   "metadata": {},
   "outputs": [
    {
     "name": "stdout",
     "output_type": "stream",
     "text": [
      "    SubjectId                                               text  label\n",
      "0  1023032801  Task Results:  Success of Responded to name ,S...      0\n",
      "1  1023040831  Task Results:  Success of Responded to name ,F...      2\n",
      "2  1023041001  Task Results:  Success of Responded to name ,S...      2\n",
      "3  1023041311  Task Results:  Success of Responded to name ,S...      0\n",
      "4  1023041701  Task Results:  Success of Responded to name ,F...      2\n"
     ]
    }
   ],
   "source": [
    "# Define label mapping\n",
    "label_mapping = {'TD': 0, 'High': 1, 'ASD': 2}\n",
    "\n",
    "# Preprocess the dataset 4 tasks #'Played catch_new', 'Fed baby doll_new','Reacted to snack_new', \n",
    "def preprocess_function_2(row):\n",
    "    # task_results = f\"1. Name calling response: {row['Responded to name_new2']} 2. Mimicked actions: {row['Mimicked actions1_new2'] + row['Mimicked actions2_new2']} 4. Played catch: {row['Played catch_new2']} 5. Fed baby doll: {row['Fed baby doll_new2']} 6. Reacted to snack: {row['Reacted to snack_new2']}\"\n",
    "    task_results = f\" {row['Responded to name_new2']} ,{row['Mimicked actions1_new2'] + row['Mimicked actions2_new2']} ,{row['Played catch_new2']} ,{row['Fed baby doll_new2']} ,{row['Reacted to snack_new2']}\"\n",
    "    input_text = f\"Task Results: {task_results} Combined: {row['combined']}\"\n",
    "    label = label_mapping[row['Class_ex']]\n",
    "    return {\"SubjectId\": row['SubjectId'], \"text\": input_text, \"label\": label}\n",
    "\n",
    "preprocessed_2 = merged_int_SRS_df.apply(preprocess_function_2, axis=1)\n",
    "preprocessed_df2 = pd.DataFrame(preprocessed_2.tolist())\n",
    "\n",
    "# Check if the 'SubjectId', 'text', and 'label' columns are created correctly\n",
    "# print(preprocessed_df[['SubjectId','text', 'label']].head())\n",
    "print(preprocessed_df2[['SubjectId','text', 'label']].head())"
   ]
  },
  {
   "cell_type": "code",
   "execution_count": 3,
   "metadata": {},
   "outputs": [],
   "source": [
    "\n",
    "df_sF= preprocessed_df2[['SubjectId','text', 'label']]\n",
    "df_sF.columns=['SubjectId','text','Class']"
   ]
  },
  {
   "cell_type": "code",
   "execution_count": 4,
   "metadata": {},
   "outputs": [
    {
     "data": {
      "text/plain": [
       "label\n",
       "2    353\n",
       "0    188\n",
       "1    162\n",
       "Name: count, dtype: int64"
      ]
     },
     "execution_count": 4,
     "metadata": {},
     "output_type": "execute_result"
    }
   ],
   "source": [
    "df_sF['label'] = df_sF['Class']\n",
    "df_sF.label.value_counts()"
   ]
  },
  {
   "cell_type": "code",
   "execution_count": 5,
   "metadata": {},
   "outputs": [
    {
     "name": "stderr",
     "output_type": "stream",
     "text": [
      "/tmp/ipykernel_8139/2707431814.py:11: SettingWithCopyWarning: \n",
      "A value is trying to be set on a copy of a slice from a DataFrame.\n",
      "Try using .loc[row_indexer,col_indexer] = value instead\n",
      "\n",
      "See the caveats in the documentation: https://pandas.pydata.org/pandas-docs/stable/user_guide/indexing.html#returning-a-view-versus-a-copy\n",
      "  df_sF2['label'] = df_sF2['Class'].replace(ASD_mapping2)\n"
     ]
    }
   ],
   "source": [
    "ASD_mapping2 = {\n",
    "    # 0: 0, # TD\n",
    "    1: 0, # High risk of ASD\n",
    "    2: 1, # ASD\n",
    "}\n",
    "\n",
    "# Select only rows with 'High' and 'ASD'\n",
    "df_sF2 = df_sF[df_sF['Class'].isin([1, 2])]\n",
    "# df_sF2 = df_sF\n",
    "\n",
    "df_sF2['label'] = df_sF2['Class'].replace(ASD_mapping2)\n",
    "df_sF2.label.value_counts()\n",
    "df_m2=df_sF2"
   ]
  },
  {
   "cell_type": "code",
   "execution_count": 6,
   "metadata": {},
   "outputs": [
    {
     "data": {
      "text/plain": [
       "label\n",
       "1    353\n",
       "0    162\n",
       "Name: count, dtype: int64"
      ]
     },
     "execution_count": 6,
     "metadata": {},
     "output_type": "execute_result"
    }
   ],
   "source": [
    "df_m2['label'].value_counts()"
   ]
  },
  {
   "cell_type": "code",
   "execution_count": 7,
   "metadata": {},
   "outputs": [],
   "source": [
    "df_m2.to_json('./df_m2_5tasks_SRS_1004_Jan07F2.json', orient='records', lines=True)"
   ]
  },
  {
   "cell_type": "code",
   "execution_count": null,
   "metadata": {},
   "outputs": [],
   "source": [
    "# import pandas as pd\n",
    "# # JSON 파일을 데이터프레임으로 다시 불러오기 :./df_m2_5tasks_SRS_1004_Oct23_nov01.csv\n",
    "# df_m2 = pd.read_json('./df_m2_5tasks_SRS_1004_Jan07F2.json'', orient='records', lines=True)\n"
   ]
  },
  {
   "cell_type": "code",
   "execution_count": 7,
   "metadata": {},
   "outputs": [],
   "source": [
    "import pandas as pd\n",
    "import numpy as np"
   ]
  },
  {
   "cell_type": "code",
   "execution_count": 8,
   "metadata": {},
   "outputs": [
    {
     "name": "stdout",
     "output_type": "stream",
     "text": [
      "GPU is available\n"
     ]
    }
   ],
   "source": [
    "import torch\n",
    "\n",
    "if torch.cuda.is_available(): \n",
    "    print(\"GPU is available\")"
   ]
  },
  {
   "cell_type": "code",
   "execution_count": 9,
   "metadata": {},
   "outputs": [],
   "source": [
    "import random\n",
    "def set_seed(random_seed):\n",
    "    torch.manual_seed(random_seed)\n",
    "    torch.cuda.manual_seed(random_seed)\n",
    "    # torch.cuda.manual_seed_all(random_seed)  # if use multi-GPU\n",
    "    torch.backends.cudnn.deterministic = True\n",
    "    torch.backends.cudnn.benchmark = False\n",
    "    np.random.seed(random_seed)\n",
    "    random.seed(random_seed)\n",
    "    \n",
    "random_seed = 42\n",
    "set_seed(random_seed)"
   ]
  },
  {
   "cell_type": "code",
   "execution_count": 10,
   "metadata": {},
   "outputs": [
    {
     "name": "stdout",
     "output_type": "stream",
     "text": [
      "\n",
      "Label distribution in Train set:\n",
      "label\n",
      "1    0.686893\n",
      "0    0.313107\n",
      "Name: proportion, dtype: float64\n",
      "\n",
      "Label distribution in Validation set:\n",
      "label\n",
      "1    0.634615\n",
      "0    0.365385\n",
      "Name: proportion, dtype: float64\n",
      "\n",
      "Label distribution in Test set:\n",
      "label\n",
      "1    0.72549\n",
      "0    0.27451\n",
      "Name: proportion, dtype: float64\n"
     ]
    }
   ],
   "source": [
    "from sklearn.model_selection import StratifiedGroupKFold\n",
    "\n",
    "# Initialize StratifiedGroupKFold\n",
    "sgkf = StratifiedGroupKFold(n_splits=5)\n",
    "\n",
    "# Get the indices for training and test sets\n",
    "train_idx, temp_idx = next(sgkf.split(df_m2, df_m2['label'], groups=df_m2['SubjectId']))\n",
    "\n",
    "# Create the training and test sets\n",
    "train = df_m2.iloc[train_idx]\n",
    "temp = df_m2.iloc[temp_idx]\n",
    "\n",
    "# Repeat for the validation set\n",
    "sgkf = StratifiedGroupKFold(n_splits=2, shuffle=True, random_state=42)\n",
    "# Get the indices for validation and test sets\n",
    "for val_idx, test_idx in sgkf.split(temp, temp['label'], groups=temp['SubjectId']):\n",
    "    break\n",
    "\n",
    "# Create the validation and test sets\n",
    "val = temp.iloc[val_idx]\n",
    "test = temp.iloc[test_idx]\n",
    "\n",
    "# Verify the label distribution\n",
    "print(\"\\nLabel distribution in Train set:\")\n",
    "print(train['label'].value_counts(normalize=True))\n",
    "print(\"\\nLabel distribution in Validation set:\")\n",
    "print(val['label'].value_counts(normalize=True))\n",
    "print(\"\\nLabel distribution in Test set:\")\n",
    "print(test['label'].value_counts(normalize=True))"
   ]
  },
  {
   "cell_type": "code",
   "execution_count": 11,
   "metadata": {},
   "outputs": [
    {
     "name": "stdout",
     "output_type": "stream",
     "text": [
      "label\n",
      "1    283\n",
      "0    129\n",
      "Name: count, dtype: int64\n",
      "label\n",
      "1    33\n",
      "0    19\n",
      "Name: count, dtype: int64\n",
      "label\n",
      "1    37\n",
      "0    14\n",
      "Name: count, dtype: int64\n"
     ]
    }
   ],
   "source": [
    "# after the chekin g the other lab part 2 below \n",
    "print(train['label'].value_counts())\n",
    "print(val['label'].value_counts())\n",
    "print(test['label'].value_counts())"
   ]
  },
  {
   "cell_type": "code",
   "execution_count": 12,
   "metadata": {},
   "outputs": [],
   "source": [
    "\n",
    "train.to_json('./train_5tasks_SRS_1004_Jan07F2.son', orient='records', lines=True)\n",
    "val.to_json('./val_5tasks_SRS_1004_Jan07F2.json', orient='records', lines=True)\n",
    "test.to_json('./test_5tasks_SRS_1004_Jan07F2.json', orient='records', lines=True)\n",
    "# train.to_json('./train_5tasks_SRS_20250103_labelsplit_0107.son', orient='records', lines=True)\n",
    "# val.to_json('./val_5tasks_SRS_20250103_labelsplit_0107.json', orient='records', lines=True)\n",
    "# test.to_json('./test_5tasks_SRS_20250103_labelsplit_0107.json', orient='records', lines=True)"
   ]
  },
  {
   "cell_type": "code",
   "execution_count": 13,
   "metadata": {},
   "outputs": [],
   "source": [
    "import pandas as pd\n",
    "import torch\n",
    "import numpy as np\n",
    "import matplotlib.pyplot as plt\n",
    "import random\n",
    "from sklearn.model_selection import train_test_split, StratifiedGroupKFold\n",
    "from torch.utils.data import DataLoader, Dataset\n",
    "from transformers import Trainer, TrainingArguments\n",
    "from transformers import RobertaTokenizerFast, RobertaForSequenceClassification\n",
    "from transformers.models.roberta.modeling_roberta import RobertaClassificationHead\n",
    "from transformers.modeling_outputs import SequenceClassifierOutput\n",
    "import os\n",
    "from torch.nn import BCEWithLogitsLoss, CrossEntropyLoss, MSELoss\n",
    "from typing import List, Optional, Tuple, Union\n",
    "from sklearn.metrics import f1_score, precision_score, recall_score, accuracy_score, roc_auc_score, average_precision_score, confusion_matrix, classification_report, roc_curve, auc\n",
    "from sklearn.preprocessing import label_binarize\n",
    "from scipy.special import softmax\n",
    "import seaborn as sns\n",
    "\n",
    "# --- Global Settings ---\n",
    "RANDOM_SEED = 42  # Set your desired seed\n",
    "MODEL_NAME = 'roberta-large'\n",
    "NUM_LABELS = 2\n",
    "# DATA_PATH = ''  # Your data path\n",
    "SAVE_DIR = f\"../Roberta/ROBERTA_SRS_6tasks_Rmodel_Binary_ASD_vs_High_1004_80_1010_seed_{RANDOM_SEED}_nov22F\"  \n",
    "\n",
    "set_seed(RANDOM_SEED)\n",
    "# --- Helper Functions ---\n",
    "\n",
    "# def set_seed(seed):\n",
    "#     \"\"\"Sets the seed for reproducibility.\"\"\"\n",
    "#     torch.manual_seed(seed)\n",
    "#     if torch.cuda.is_available():\n",
    "#         torch.cuda.manual_seed(seed)\n",
    "#         torch.cuda.manual_seed_all(seed)  # For multi-GPU\n",
    "#     torch.backends.cudnn.deterministic = True\n",
    "#     torch.backends.cudnn.benchmark = False\n",
    "#     np.random.seed(seed)\n",
    "#     random.seed(seed)\n",
    "\n",
    "# --- Data Loading and Preprocessing ---\n",
    "\n",
    "# def load_and_preprocess_data(df_m2):\n",
    "#     \"\"\"Loads, preprocesses, and splits the data into train, val, and test sets.\"\"\"\n",
    "#     # df_sF = pd.read_json(f'{data_path}merged_int_SRS_df_op1_2nd_1004_Nov04.json', orient='records', lines=True)\n",
    "#     # #df_sF = pd.read_json(f'{data_path}merged_int_SRS_df_op1_2nd_1004_Nov04.json', orient='records', lines=True) # merged_int_SRS_df_op1_2nd_1004_Nov04.json\n",
    "\n",
    "#     # # Filter and map labels (if needed)\n",
    "#     # # Modify this part if you need different label filtering/mapping\n",
    "#     # df_sF2 = df_sF[df_sF['Class'].isin([1, 2])]\n",
    "#     # df_sF2['label'] = df_sF2['Class'].replace({1: 0, 2: 1}) \n",
    "#     # df_m2 = df_sF2\n",
    "\n",
    "#     # Split data using StratifiedGroupKFold\n",
    "#     sgkf = StratifiedGroupKFold(n_splits=5, shuffle=True, random_state=RANDOM_SEED)\n",
    "\n",
    "#     # Get the indices for training and the rest\n",
    "#     train_idx, temp_idx = next(sgkf.split(df_m2, df_m2['label'], groups=df_m2['SubjectId']))\n",
    "#     train = df_m2.iloc[train_idx]\n",
    "#     temp = df_m2.iloc[temp_idx]\n",
    "\n",
    "#     # Split the rest into validation and test sets\n",
    "#     sgkf_val_test = StratifiedGroupKFold(n_splits=2, shuffle=True, random_state=RANDOM_SEED)\n",
    "#     val_idx, test_idx = next(sgkf_val_test.split(temp, temp['label'], groups=temp['SubjectId']))\n",
    "#     val = temp.iloc[val_idx]\n",
    "#     test = temp.iloc[test_idx]\n",
    "    \n",
    "#     return train, val, test\n",
    "\n",
    "# --- Tokenization and Dataset Creation ---\n",
    "\n",
    "def tokenize_and_pad(tokenizer, dataset, max_length=567):\n",
    "    \"\"\"Tokenizes and pads the input text.\"\"\"\n",
    "    return tokenizer(\n",
    "        dataset['text'].tolist(),\n",
    "        truncation=True,\n",
    "        padding=True,\n",
    "        max_length=max_length\n",
    "    )\n",
    "\n",
    "class ASD_Dataset(Dataset):\n",
    "    \"\"\"Custom Dataset class for ASD classification.\"\"\"\n",
    "    def __init__(self, encodings, labels, subject_ids):\n",
    "        self.encodings = encodings\n",
    "        self.labels = labels\n",
    "        self.subject_ids = subject_ids\n",
    "\n",
    "    def __getitem__(self, idx):\n",
    "        item = {key: torch.tensor(val[idx]) for key, val in self.encodings.items()}\n",
    "        item['labels'] = torch.tensor(self.labels[idx])\n",
    "        item['SubjectId'] = self.subject_ids[idx]\n",
    "        return item\n",
    "\n",
    "    def __len__(self):\n",
    "        return len(self.labels)\n",
    "\n",
    "    @property\n",
    "    def column_names(self):\n",
    "        return list(self.encodings.keys()) + ['labels', 'SubjectId']\n",
    "\n",
    "# --- Model and Training Setup ---\n",
    "\n",
    "def setup_model_and_training_args():\n",
    "    \"\"\"Sets up the RoBERTa model, tokenizer, and training arguments.\"\"\"\n",
    "    model = RobertaForSequenceClassification.from_pretrained(MODEL_NAME, num_labels=NUM_LABELS)\n",
    "    tokenizer = RobertaTokenizerFast.from_pretrained(MODEL_NAME)\n",
    "\n",
    "    training_args = TrainingArguments(\n",
    "        output_dir='./output',\n",
    "        num_train_epochs=10,\n",
    "        per_device_train_batch_size=8,\n",
    "        per_device_eval_batch_size=8,\n",
    "        warmup_steps=0,\n",
    "        weight_decay=1e-8,\n",
    "        logging_dir='./Roberta/log',\n",
    "        logging_steps=10,\n",
    "        evaluation_strategy='epoch',\n",
    "        save_strategy='epoch',\n",
    "        learning_rate=2e-5,\n",
    "        gradient_accumulation_steps=4,\n",
    "        load_best_model_at_end=True,\n",
    "        metric_for_best_model='eval_loss',\n",
    "    )\n",
    "\n",
    "    return model, tokenizer, training_args\n",
    "\n",
    "# --- Evaluation Metrics ---\n",
    "\n",
    "def compute_metrics_binary(p):\n",
    "    \"\"\"Computes evaluation metrics for binary classification.\"\"\"\n",
    "    predictions, labels = p\n",
    "    predictions = np.argmax(predictions, axis=1)\n",
    "\n",
    "    f1 = f1_score(labels, predictions, average='binary')\n",
    "    precision = precision_score(labels, predictions, average='binary')\n",
    "    recall = recall_score(labels, predictions, average='binary')\n",
    "    acc = accuracy_score(labels, predictions)\n",
    "    auroc = roc_auc_score(labels, predictions)\n",
    "    avgprc = average_precision_score(labels, predictions)\n",
    "\n",
    "    return {\n",
    "        \"acc\": acc,\n",
    "        \"f1\": f1,\n",
    "        \"precision\": precision,\n",
    "        \"recall\": recall,\n",
    "        \"auroc\": auroc,\n",
    "        \"avgprc\": avgprc\n",
    "    }\n",
    "\n"
   ]
  },
  {
   "cell_type": "code",
   "execution_count": 14,
   "metadata": {},
   "outputs": [
    {
     "name": "stderr",
     "output_type": "stream",
     "text": [
      "Some weights of RobertaForSequenceClassification were not initialized from the model checkpoint at roberta-large and are newly initialized: ['classifier.dense.bias', 'classifier.dense.weight', 'classifier.out_proj.bias', 'classifier.out_proj.weight']\n",
      "You should probably TRAIN this model on a down-stream task to be able to use it for predictions and inference.\n",
      "huggingface/tokenizers: The current process just got forked, after parallelism has already been used. Disabling parallelism to avoid deadlocks...\n",
      "To disable this warning, you can either:\n",
      "\t- Avoid using `tokenizers` before the fork if possible\n",
      "\t- Explicitly set the environment variable TOKENIZERS_PARALLELISM=(true | false)\n",
      "huggingface/tokenizers: The current process just got forked, after parallelism has already been used. Disabling parallelism to avoid deadlocks...\n",
      "To disable this warning, you can either:\n",
      "\t- Avoid using `tokenizers` before the fork if possible\n",
      "\t- Explicitly set the environment variable TOKENIZERS_PARALLELISM=(true | false)\n",
      "huggingface/tokenizers: The current process just got forked, after parallelism has already been used. Disabling parallelism to avoid deadlocks...\n",
      "To disable this warning, you can either:\n",
      "\t- Avoid using `tokenizers` before the fork if possible\n",
      "\t- Explicitly set the environment variable TOKENIZERS_PARALLELISM=(true | false)\n",
      "\u001b[34m\u001b[1mwandb\u001b[0m: Using wandb-core as the SDK backend. Please refer to https://wandb.me/wandb-core for more information.\n",
      "huggingface/tokenizers: The current process just got forked, after parallelism has already been used. Disabling parallelism to avoid deadlocks...\n",
      "To disable this warning, you can either:\n",
      "\t- Avoid using `tokenizers` before the fork if possible\n",
      "\t- Explicitly set the environment variable TOKENIZERS_PARALLELISM=(true | false)\n",
      "\u001b[34m\u001b[1mwandb\u001b[0m: Currently logged in as: \u001b[33msookyungbae\u001b[0m. Use \u001b[1m`wandb login --relogin`\u001b[0m to force relogin\n",
      "huggingface/tokenizers: The current process just got forked, after parallelism has already been used. Disabling parallelism to avoid deadlocks...\n",
      "To disable this warning, you can either:\n",
      "\t- Avoid using `tokenizers` before the fork if possible\n",
      "\t- Explicitly set the environment variable TOKENIZERS_PARALLELISM=(true | false)\n"
     ]
    },
    {
     "data": {
      "text/html": [
       "Tracking run with wandb version 0.18.3"
      ],
      "text/plain": [
       "<IPython.core.display.HTML object>"
      ]
     },
     "metadata": {},
     "output_type": "display_data"
    },
    {
     "data": {
      "text/html": [
       "Run data is saved locally in <code>/home/skbae/Documents/skbae/ASD/paper/4.Multimodal_RiskST/Git/wandb/run-20250109_095936-4vddpk82</code>"
      ],
      "text/plain": [
       "<IPython.core.display.HTML object>"
      ]
     },
     "metadata": {},
     "output_type": "display_data"
    },
    {
     "data": {
      "text/html": [
       "Syncing run <strong><a href='https://wandb.ai/sookyungbae/huggingface/runs/4vddpk82' target=\"_blank\">comfy-haze-148</a></strong> to <a href='https://wandb.ai/sookyungbae/huggingface' target=\"_blank\">Weights & Biases</a> (<a href='https://wandb.me/run' target=\"_blank\">docs</a>)<br/>"
      ],
      "text/plain": [
       "<IPython.core.display.HTML object>"
      ]
     },
     "metadata": {},
     "output_type": "display_data"
    },
    {
     "data": {
      "text/html": [
       " View project at <a href='https://wandb.ai/sookyungbae/huggingface' target=\"_blank\">https://wandb.ai/sookyungbae/huggingface</a>"
      ],
      "text/plain": [
       "<IPython.core.display.HTML object>"
      ]
     },
     "metadata": {},
     "output_type": "display_data"
    },
    {
     "data": {
      "text/html": [
       " View run at <a href='https://wandb.ai/sookyungbae/huggingface/runs/4vddpk82' target=\"_blank\">https://wandb.ai/sookyungbae/huggingface/runs/4vddpk82</a>"
      ],
      "text/plain": [
       "<IPython.core.display.HTML object>"
      ]
     },
     "metadata": {},
     "output_type": "display_data"
    },
    {
     "data": {
      "application/vnd.jupyter.widget-view+json": {
       "model_id": "82a13a279fa742509465c8d9b97674da",
       "version_major": 2,
       "version_minor": 0
      },
      "text/plain": [
       "  0%|          | 0/130 [00:00<?, ?it/s]"
      ]
     },
     "metadata": {},
     "output_type": "display_data"
    },
    {
     "name": "stdout",
     "output_type": "stream",
     "text": [
      "{'loss': 0.6421, 'grad_norm': 28.295198440551758, 'learning_rate': 1.8461538461538465e-05, 'epoch': 0.77}\n"
     ]
    },
    {
     "data": {
      "application/vnd.jupyter.widget-view+json": {
       "model_id": "1df65e2e35c5484f8d561fd5b1112a00",
       "version_major": 2,
       "version_minor": 0
      },
      "text/plain": [
       "  0%|          | 0/7 [00:00<?, ?it/s]"
      ]
     },
     "metadata": {},
     "output_type": "display_data"
    },
    {
     "name": "stdout",
     "output_type": "stream",
     "text": [
      "{'eval_loss': 0.6617659330368042, 'eval_acc': 0.6538461538461539, 'eval_f1': 0.7857142857142857, 'eval_precision': 0.6470588235294118, 'eval_recall': 1.0, 'eval_auroc': 0.5263157894736843, 'eval_avgprc': 0.6470588235294118, 'eval_runtime': 1.5158, 'eval_samples_per_second': 34.306, 'eval_steps_per_second': 4.618, 'epoch': 1.0}\n",
      "{'loss': 0.6436, 'grad_norm': 9.175735473632812, 'learning_rate': 1.6923076923076924e-05, 'epoch': 1.54}\n"
     ]
    },
    {
     "data": {
      "application/vnd.jupyter.widget-view+json": {
       "model_id": "d612b40a34154f8e927eed3417e4e11d",
       "version_major": 2,
       "version_minor": 0
      },
      "text/plain": [
       "  0%|          | 0/7 [00:00<?, ?it/s]"
      ]
     },
     "metadata": {},
     "output_type": "display_data"
    },
    {
     "name": "stdout",
     "output_type": "stream",
     "text": [
      "{'eval_loss': 0.5947718024253845, 'eval_acc': 0.6346153846153846, 'eval_f1': 0.7764705882352941, 'eval_precision': 0.6346153846153846, 'eval_recall': 1.0, 'eval_auroc': 0.5, 'eval_avgprc': 0.6346153846153846, 'eval_runtime': 1.3369, 'eval_samples_per_second': 38.897, 'eval_steps_per_second': 5.236, 'epoch': 2.0}\n",
      "{'loss': 0.5427, 'grad_norm': 6.216416358947754, 'learning_rate': 1.5384615384615387e-05, 'epoch': 2.31}\n"
     ]
    },
    {
     "data": {
      "application/vnd.jupyter.widget-view+json": {
       "model_id": "9971b11f2c9244e5b4c7cd8aace040cc",
       "version_major": 2,
       "version_minor": 0
      },
      "text/plain": [
       "  0%|          | 0/7 [00:00<?, ?it/s]"
      ]
     },
     "metadata": {},
     "output_type": "display_data"
    },
    {
     "name": "stdout",
     "output_type": "stream",
     "text": [
      "{'eval_loss': 0.5997595191001892, 'eval_acc': 0.75, 'eval_f1': 0.8266666666666667, 'eval_precision': 0.7380952380952381, 'eval_recall': 0.9393939393939394, 'eval_auroc': 0.6802232854864434, 'eval_avgprc': 0.7318237318237318, 'eval_runtime': 1.3477, 'eval_samples_per_second': 38.583, 'eval_steps_per_second': 5.194, 'epoch': 3.0}\n",
      "{'loss': 0.5391, 'grad_norm': 15.65692138671875, 'learning_rate': 1.3846153846153847e-05, 'epoch': 3.08}\n",
      "{'loss': 0.462, 'grad_norm': 5.286192417144775, 'learning_rate': 1.230769230769231e-05, 'epoch': 3.85}\n"
     ]
    },
    {
     "data": {
      "application/vnd.jupyter.widget-view+json": {
       "model_id": "64ddb11324a64e2080e8c671f878fb74",
       "version_major": 2,
       "version_minor": 0
      },
      "text/plain": [
       "  0%|          | 0/7 [00:00<?, ?it/s]"
      ]
     },
     "metadata": {},
     "output_type": "display_data"
    },
    {
     "name": "stdout",
     "output_type": "stream",
     "text": [
      "{'eval_loss': 0.5867419838905334, 'eval_acc': 0.7307692307692307, 'eval_f1': 0.8, 'eval_precision': 0.7567567567567568, 'eval_recall': 0.8484848484848485, 'eval_auroc': 0.6874003189792665, 'eval_avgprc': 0.7382504882504883, 'eval_runtime': 1.3517, 'eval_samples_per_second': 38.469, 'eval_steps_per_second': 5.179, 'epoch': 4.0}\n",
      "{'loss': 0.4827, 'grad_norm': 11.127602577209473, 'learning_rate': 1.076923076923077e-05, 'epoch': 4.62}\n"
     ]
    },
    {
     "data": {
      "application/vnd.jupyter.widget-view+json": {
       "model_id": "123ffd30017f45c8bb82ab84d9dd02c5",
       "version_major": 2,
       "version_minor": 0
      },
      "text/plain": [
       "  0%|          | 0/7 [00:00<?, ?it/s]"
      ]
     },
     "metadata": {},
     "output_type": "display_data"
    },
    {
     "name": "stdout",
     "output_type": "stream",
     "text": [
      "{'eval_loss': 0.6935160160064697, 'eval_acc': 0.7115384615384616, 'eval_f1': 0.7945205479452054, 'eval_precision': 0.725, 'eval_recall': 0.8787878787878788, 'eval_auroc': 0.6499202551834131, 'eval_avgprc': 0.7140442890442891, 'eval_runtime': 1.3603, 'eval_samples_per_second': 38.228, 'eval_steps_per_second': 5.146, 'epoch': 5.0}\n",
      "{'loss': 0.4908, 'grad_norm': 19.458995819091797, 'learning_rate': 9.230769230769232e-06, 'epoch': 5.38}\n"
     ]
    },
    {
     "data": {
      "application/vnd.jupyter.widget-view+json": {
       "model_id": "29ed10488b584ca897f9ea1c2c94a619",
       "version_major": 2,
       "version_minor": 0
      },
      "text/plain": [
       "  0%|          | 0/7 [00:00<?, ?it/s]"
      ]
     },
     "metadata": {},
     "output_type": "display_data"
    },
    {
     "name": "stdout",
     "output_type": "stream",
     "text": [
      "{'eval_loss': 0.6567204594612122, 'eval_acc': 0.6923076923076923, 'eval_f1': 0.7777777777777778, 'eval_precision': 0.717948717948718, 'eval_recall': 0.8484848484848485, 'eval_auroc': 0.634768740031898, 'eval_avgprc': 0.7053224553224553, 'eval_runtime': 1.3663, 'eval_samples_per_second': 38.059, 'eval_steps_per_second': 5.123, 'epoch': 6.0}\n",
      "{'loss': 0.477, 'grad_norm': 7.585322380065918, 'learning_rate': 7.692307692307694e-06, 'epoch': 6.15}\n",
      "{'loss': 0.4381, 'grad_norm': 12.157676696777344, 'learning_rate': 6.153846153846155e-06, 'epoch': 6.92}\n"
     ]
    },
    {
     "data": {
      "application/vnd.jupyter.widget-view+json": {
       "model_id": "6354768e6c2249e482c9c54604303859",
       "version_major": 2,
       "version_minor": 0
      },
      "text/plain": [
       "  0%|          | 0/7 [00:00<?, ?it/s]"
      ]
     },
     "metadata": {},
     "output_type": "display_data"
    },
    {
     "name": "stdout",
     "output_type": "stream",
     "text": [
      "{'eval_loss': 0.6439638137817383, 'eval_acc': 0.75, 'eval_f1': 0.8266666666666667, 'eval_precision': 0.7380952380952381, 'eval_recall': 0.9393939393939394, 'eval_auroc': 0.6802232854864434, 'eval_avgprc': 0.7318237318237318, 'eval_runtime': 1.3752, 'eval_samples_per_second': 37.814, 'eval_steps_per_second': 5.09, 'epoch': 7.0}\n",
      "{'loss': 0.4377, 'grad_norm': 6.448712348937988, 'learning_rate': 4.615384615384616e-06, 'epoch': 7.69}\n"
     ]
    },
    {
     "data": {
      "application/vnd.jupyter.widget-view+json": {
       "model_id": "4b33ce3b238d45f89d95c231a507bd1d",
       "version_major": 2,
       "version_minor": 0
      },
      "text/plain": [
       "  0%|          | 0/7 [00:00<?, ?it/s]"
      ]
     },
     "metadata": {},
     "output_type": "display_data"
    },
    {
     "name": "stdout",
     "output_type": "stream",
     "text": [
      "{'eval_loss': 0.6098980903625488, 'eval_acc': 0.75, 'eval_f1': 0.8169014084507042, 'eval_precision': 0.7631578947368421, 'eval_recall': 0.8787878787878788, 'eval_auroc': 0.7025518341307816, 'eval_avgprc': 0.7475769844190898, 'eval_runtime': 1.336, 'eval_samples_per_second': 38.924, 'eval_steps_per_second': 5.24, 'epoch': 8.0}\n",
      "{'loss': 0.3914, 'grad_norm': 9.768142700195312, 'learning_rate': 3.0769230769230774e-06, 'epoch': 8.46}\n"
     ]
    },
    {
     "data": {
      "application/vnd.jupyter.widget-view+json": {
       "model_id": "3d924f5e4e704ff3b892cc20f2067f83",
       "version_major": 2,
       "version_minor": 0
      },
      "text/plain": [
       "  0%|          | 0/7 [00:00<?, ?it/s]"
      ]
     },
     "metadata": {},
     "output_type": "display_data"
    },
    {
     "name": "stdout",
     "output_type": "stream",
     "text": [
      "{'eval_loss': 0.627069354057312, 'eval_acc': 0.7692307692307693, 'eval_f1': 0.8285714285714286, 'eval_precision': 0.7837837837837838, 'eval_recall': 0.8787878787878788, 'eval_auroc': 0.7288676236044658, 'eval_avgprc': 0.7657027657027657, 'eval_runtime': 1.2596, 'eval_samples_per_second': 41.283, 'eval_steps_per_second': 5.557, 'epoch': 9.0}\n",
      "{'loss': 0.4066, 'grad_norm': 9.590224266052246, 'learning_rate': 1.5384615384615387e-06, 'epoch': 9.23}\n",
      "{'loss': 0.4006, 'grad_norm': 6.954423904418945, 'learning_rate': 0.0, 'epoch': 10.0}\n"
     ]
    },
    {
     "data": {
      "application/vnd.jupyter.widget-view+json": {
       "model_id": "86eb6e7d18cb465ea469df0cc2b3eafd",
       "version_major": 2,
       "version_minor": 0
      },
      "text/plain": [
       "  0%|          | 0/7 [00:00<?, ?it/s]"
      ]
     },
     "metadata": {},
     "output_type": "display_data"
    },
    {
     "name": "stderr",
     "output_type": "stream",
     "text": [
      "Checkpoint destination directory ./output/checkpoint-130 already exists and is non-empty. Saving will proceed but saved results may be invalid.\n"
     ]
    },
    {
     "name": "stdout",
     "output_type": "stream",
     "text": [
      "{'eval_loss': 0.64280104637146, 'eval_acc': 0.7692307692307693, 'eval_f1': 0.8285714285714286, 'eval_precision': 0.7837837837837838, 'eval_recall': 0.8787878787878788, 'eval_auroc': 0.7288676236044658, 'eval_avgprc': 0.7657027657027657, 'eval_runtime': 1.2225, 'eval_samples_per_second': 42.535, 'eval_steps_per_second': 5.726, 'epoch': 10.0}\n",
      "{'train_runtime': 459.3031, 'train_samples_per_second': 8.97, 'train_steps_per_second': 0.283, 'train_loss': 0.4887979287367601, 'epoch': 10.0}\n"
     ]
    },
    {
     "data": {
      "application/vnd.jupyter.widget-view+json": {
       "model_id": "a7aa95d50c8b427c9d22fec846ed713c",
       "version_major": 2,
       "version_minor": 0
      },
      "text/plain": [
       "  0%|          | 0/7 [00:00<?, ?it/s]"
      ]
     },
     "metadata": {},
     "output_type": "display_data"
    },
    {
     "data": {
      "image/png": "[encoded data removed]",
      "text/plain": [
       "<Figure size 640x480 with 2 Axes>"
      ]
     },
     "metadata": {},
     "output_type": "display_data"
    },
    {
     "name": "stdout",
     "output_type": "stream",
     "text": [
      "Classification Report:\n",
      "               precision    recall  f1-score   support\n",
      "\n",
      "           0       0.75      0.64      0.69        14\n",
      "           1       0.87      0.92      0.89        37\n",
      "\n",
      "    accuracy                           0.84        51\n",
      "   macro avg       0.81      0.78      0.79        51\n",
      "weighted avg       0.84      0.84      0.84        51\n",
      "\n"
     ]
    },
    {
     "data": {
      "image/png": "[encoded data removed]",
      "text/plain": [
       "<Figure size 640x480 with 1 Axes>"
      ]
     },
     "metadata": {},
     "output_type": "display_data"
    },
    {
     "name": "stdout",
     "output_type": "stream",
     "text": [
      "    SubjectId                                               text  True_Labels  \\\n",
      "0  1023041001  Task Results:  Success of Responded to name ,S...            1   \n",
      "1  1023052034  Task Results:  Success of Responded to name ,S...            1   \n",
      "2  1023053011  Task Results:  Failure of  ,Failure of  ,Succe...            1   \n",
      "3  1023061461  Task Results:  Success of Responded to name ,S...            1   \n",
      "4  1023080172  Task Results:  Failure of  ,Success of Mimicke...            1   \n",
      "\n",
      "   Predictions              Probabilities  \n",
      "0            1   [0.29913414, 0.70086586]  \n",
      "1            1     [0.4416352, 0.5583648]  \n",
      "2            1    [0.2534121, 0.74658793]  \n",
      "3            1  [0.019069266, 0.98093075]  \n",
      "4            1  [0.013637362, 0.98636264]  \n"
     ]
    }
   ],
   "source": [
    "# --- Main Script ---\n",
    "\n",
    "if __name__ == \"__main__\":\n",
    "    # set_seed(RANDOM_SEED)\n",
    "\n",
    "    # # Load and preprocess data\n",
    "    # train, val, test = load_and_preprocess_data(df_m2)\n",
    "\n",
    "    # Setup model, tokenizer, and training arguments\n",
    "    model, tokenizer, training_args = setup_model_and_training_args()\n",
    "\n",
    "    # Tokenize data\n",
    "    train_encodings = tokenize_and_pad(tokenizer, train)\n",
    "    val_encodings = tokenize_and_pad(tokenizer, val)\n",
    "    test_encodings = tokenize_and_pad(tokenizer, test)\n",
    "\n",
    "    # Extract SubjectIds\n",
    "    train_subject_ids = train['SubjectId'].tolist()\n",
    "    val_subject_ids = val['SubjectId'].tolist()\n",
    "    test_subject_ids = test['SubjectId'].tolist()\n",
    "\n",
    "    # Create datasets\n",
    "    train_dataset = ASD_Dataset(train_encodings, train['label'].tolist(), train_subject_ids)\n",
    "    val_dataset = ASD_Dataset(val_encodings, val['label'].tolist(), val_subject_ids)\n",
    "    test_dataset = ASD_Dataset(test_encodings, test['label'].tolist(), test_subject_ids)\n",
    "\n",
    "    # Initialize Trainer\n",
    "    trainer = Trainer(\n",
    "        model=model,\n",
    "        args=training_args,\n",
    "        train_dataset=train_dataset,\n",
    "        eval_dataset=val_dataset,\n",
    "        compute_metrics=compute_metrics_binary\n",
    "    )\n",
    "\n",
    "    # Train the model\n",
    "    trainer.train()\n",
    "\n",
    "    # Save the model and tokenizer\n",
    "    trainer.save_model(SAVE_DIR)\n",
    "    tokenizer.save_pretrained(SAVE_DIR)\n",
    "\n",
    "    # Generate predictions on the test set\n",
    "    predictions_output = trainer.predict(test_dataset)\n",
    "    predictions = np.argmax(predictions_output.predictions, axis=-1)\n",
    "    probabilities = softmax(predictions_output.predictions, axis=-1)\n",
    "    true_labels = predictions_output.label_ids\n",
    "\n",
    "    # Create a DataFrame for results\n",
    "    df_results = pd.DataFrame({\n",
    "        'True_Labels': true_labels,\n",
    "        'Predictions': predictions,\n",
    "        'Probabilities': list(probabilities)\n",
    "    })\n",
    "\n",
    "\n",
    "    # --- Evaluation and Visualization ---\n",
    "\n",
    "    # Confusion Matrix\n",
    "    conf_matrix = confusion_matrix(df_results['True_Labels'], df_results['Predictions'])\n",
    "    sns.heatmap(conf_matrix, annot=True, fmt='g')\n",
    "    plt.xlabel('Predicted Labels')\n",
    "    plt.ylabel('True Labels')\n",
    "    plt.title('Confusion Matrix')\n",
    "    plt.show()\n",
    "\n",
    "    # Classification Report\n",
    "    class_report = classification_report(df_results['True_Labels'], df_results['Predictions'])\n",
    "    print(\"Classification Report:\\n\", class_report)\n",
    "\n",
    "    # ROC Curve\n",
    "    y_true = np.array(df_results['True_Labels'])  # Corrected line: Added .array\n",
    "    y_proba = np.array([proba[1] for proba in df_results['Probabilities']])\n",
    "    fpr, tpr, _ = roc_curve(y_true, y_proba)\n",
    "    roc_auc = auc(fpr, tpr)\n",
    "\n",
    "    plt.plot(fpr, tpr, color='darkorange', lw=2, label='ROC curve (area = %0.2f)' % roc_auc)\n",
    "    plt.plot([0, 1], [0, 1], color='navy', lw=2, linestyle='--')\n",
    "    plt.xlim([0.0, 1.0])\n",
    "    plt.ylim([0.0, 1.05])\n",
    "    plt.xlabel('False Positive Rate')\n",
    "    plt.ylabel('True Positive Rate')\n",
    "    plt.title('Receiver Operating Characteristic')\n",
    "    plt.legend(loc=\"lower right\")\n",
    "    plt.show()\n",
    "\n",
    "    # Create a detailed DataFrame with predictions, probabilities, and text\n",
    "    test_data = [test_dataset[i] for i in range(len(test_dataset))]\n",
    "    df_test_data = pd.DataFrame(test_data)\n",
    "    df_test_data['True_Labels'] = true_labels\n",
    "    df_test_data['Predictions'] = predictions\n",
    "    df_test_data['Probabilities'] = list(probabilities)\n",
    "\n",
    "    # Add the original text to the DataFrame\n",
    "    df_test_data['text'] = test['text'].tolist()\n",
    "\n",
    "    # Example: Display a few rows with text, predictions, and probabilities\n",
    "    print(df_test_data[['SubjectId','text', 'True_Labels', 'Predictions', 'Probabilities']].head())\n",
    "\n",
    "    # (Optional) Save the detailed DataFrame to a CSV\n",
    "    # df_test_data.to_csv('test_predictions_with_details.csv', index=False)\n",
    "\n",
    "    # (Optional) Print the training logs\n",
    "    # print(trainer.state.log_history)"
   ]
  }
 ],
 "metadata": {
  "kernelspec": {
   "display_name": "new_llm",
   "language": "python",
   "name": "python3"
  },
  "language_info": {
   "codemirror_mode": {
    "name": "ipython",
    "version": 3
   },
   "file_extension": ".py",
   "mimetype": "text/x-python",
   "name": "python",
   "nbconvert_exporter": "python",
   "pygments_lexer": "ipython3",
   "version": "3.9.18"
  }
 },
 "nbformat": 4,
 "nbformat_minor": 2
}
