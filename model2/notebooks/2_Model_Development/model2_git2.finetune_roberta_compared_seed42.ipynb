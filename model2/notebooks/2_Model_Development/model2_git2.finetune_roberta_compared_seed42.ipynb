{
 "cells": [
  {
   "cell_type": "code",
   "execution_count": null,
   "metadata": {},
   "outputs": [],
   "source": [
    "#finetune_roberta.py"
   ]
  },
  {
   "cell_type": "code",
   "execution_count": 1,
   "metadata": {},
   "outputs": [],
   "source": [
    "import pandas as pd\n",
    "json_file_path = './merged_int_SRS_df_op1_2nd_1004_Nov04F2.json'\n",
    "merged_int_SRS_df = pd.read_json(json_file_path, orient='records', lines=True)"
   ]
  },
  {
   "cell_type": "code",
   "execution_count": null,
   "metadata": {},
   "outputs": [],
   "source": [
    "# option1 : 2nd High Vs ASD"
   ]
  },
  {
   "cell_type": "code",
   "execution_count": 2,
   "metadata": {},
   "outputs": [
    {
     "name": "stdout",
     "output_type": "stream",
     "text": [
      "    SubjectId                                               text  label\n",
      "0  1023032801  Task Results:  Success of Responded to name ,S...      0\n",
      "1  1023040831  Task Results:  Success of Responded to name ,F...      2\n",
      "2  1023041001  Task Results:  Success of Responded to name ,S...      2\n",
      "3  1023041311  Task Results:  Success of Responded to name ,S...      0\n",
      "4  1023041701  Task Results:  Success of Responded to name ,F...      2\n"
     ]
    }
   ],
   "source": [
    "# Define label mapping\n",
    "label_mapping = {'TD': 0, 'High': 1, 'ASD': 2}\n",
    "\n",
    "# Preprocess the dataset 4 tasks #'Played catch_new', 'Fed baby doll_new','Reacted to snack_new', \n",
    "def preprocess_function_2(row):\n",
    "    # task_results = f\"1. Name calling response: {row['Responded to name_new2']} 2. Mimicked actions: {row['Mimicked actions1_new2'] + row['Mimicked actions2_new2']} 4. Played catch: {row['Played catch_new2']} 5. Fed baby doll: {row['Fed baby doll_new2']} 6. Reacted to snack: {row['Reacted to snack_new2']}\"\n",
    "    task_results = f\" {row['Responded to name_new2']} ,{row['Mimicked actions1_new2'] + row['Mimicked actions2_new2']} ,{row['Played catch_new2']} ,{row['Fed baby doll_new2']} ,{row['Reacted to snack_new2']}\"\n",
    "    input_text = f\"Task Results: {task_results} Combined: {row['combined']}\"\n",
    "    label = label_mapping[row['Class_ex']]\n",
    "    return {\"SubjectId\": row['SubjectId'], \"text\": input_text, \"label\": label}\n",
    "\n",
    "preprocessed_2 = merged_int_SRS_df.apply(preprocess_function_2, axis=1)\n",
    "preprocessed_df2 = pd.DataFrame(preprocessed_2.tolist())\n",
    "\n",
    "# Check if the 'SubjectId', 'text', and 'label' columns are created correctly\n",
    "# print(preprocessed_df[['SubjectId','text', 'label']].head())\n",
    "print(preprocessed_df2[['SubjectId','text', 'label']].head())"
   ]
  },
  {
   "cell_type": "code",
   "execution_count": 3,
   "metadata": {},
   "outputs": [],
   "source": [
    "\n",
    "df_sF= preprocessed_df2[['SubjectId','text', 'label']]\n",
    "df_sF.columns=['SubjectId','text','Class']"
   ]
  },
  {
   "cell_type": "code",
   "execution_count": 4,
   "metadata": {},
   "outputs": [
    {
     "data": {
      "text/plain": [
       "label\n",
       "2    353\n",
       "0    188\n",
       "1    162\n",
       "Name: count, dtype: int64"
      ]
     },
     "execution_count": 4,
     "metadata": {},
     "output_type": "execute_result"
    }
   ],
   "source": [
    "df_sF['label'] = df_sF['Class']\n",
    "df_sF.label.value_counts()"
   ]
  },
  {
   "cell_type": "code",
   "execution_count": 5,
   "metadata": {},
   "outputs": [
    {
     "name": "stderr",
     "output_type": "stream",
     "text": [
      "/tmp/ipykernel_8139/2707431814.py:11: SettingWithCopyWarning: \n",
      "A value is trying to be set on a copy of a slice from a DataFrame.\n",
      "Try using .loc[row_indexer,col_indexer] = value instead\n",
      "\n",
      "See the caveats in the documentation: https://pandas.pydata.org/pandas-docs/stable/user_guide/indexing.html#returning-a-view-versus-a-copy\n",
      "  df_sF2['label'] = df_sF2['Class'].replace(ASD_mapping2)\n"
     ]
    }
   ],
   "source": [
    "ASD_mapping2 = {\n",
    "    # 0: 0, # TD\n",
    "    1: 0, # High risk of ASD\n",
    "    2: 1, # ASD\n",
    "}\n",
    "\n",
    "# Select only rows with 'High' and 'ASD'\n",
    "df_sF2 = df_sF[df_sF['Class'].isin([1, 2])]\n",
    "# df_sF2 = df_sF\n",
    "\n",
    "df_sF2['label'] = df_sF2['Class'].replace(ASD_mapping2)\n",
    "df_sF2.label.value_counts()\n",
    "df_m2=df_sF2"
   ]
  },
  {
   "cell_type": "code",
   "execution_count": 6,
   "metadata": {},
   "outputs": [
    {
     "data": {
      "text/plain": [
       "label\n",
       "1    353\n",
       "0    162\n",
       "Name: count, dtype: int64"
      ]
     },
     "execution_count": 6,
     "metadata": {},
     "output_type": "execute_result"
    }
   ],
   "source": [
    "df_m2['label'].value_counts()"
   ]
  },
  {
   "cell_type": "code",
   "execution_count": 7,
   "metadata": {},
   "outputs": [],
   "source": [
    "df_m2.to_json('./df_m2_5tasks_SRS_1004_Jan07F2.json', orient='records', lines=True)"
   ]
  },
  {
   "cell_type": "code",
   "execution_count": null,
   "metadata": {},
   "outputs": [],
   "source": [
    "# import pandas as pd\n",
    "# # JSON 파일을 데이터프레임으로 다시 불러오기 :./df_m2_5tasks_SRS_1004_Oct23_nov01.csv\n",
    "# df_m2 = pd.read_json('./df_m2_5tasks_SRS_1004_Jan07F2.json'', orient='records', lines=True)\n"
   ]
  },
  {
   "cell_type": "code",
   "execution_count": 2,
   "metadata": {},
   "outputs": [],
   "source": [
    "import pandas as pd\n",
    "import numpy as np"
   ]
  },
  {
   "cell_type": "code",
   "execution_count": 3,
   "metadata": {},
   "outputs": [
    {
     "name": "stdout",
     "output_type": "stream",
     "text": [
      "GPU is available\n"
     ]
    }
   ],
   "source": [
    "import torch\n",
    "\n",
    "if torch.cuda.is_available(): \n",
    "    print(\"GPU is available\")"
   ]
  },
  {
   "cell_type": "code",
   "execution_count": 4,
   "metadata": {},
   "outputs": [],
   "source": [
    "import random\n",
    "def set_seed(random_seed):\n",
    "    torch.manual_seed(random_seed)\n",
    "    torch.cuda.manual_seed(random_seed)\n",
    "    # torch.cuda.manual_seed_all(random_seed)  # if use multi-GPU\n",
    "    torch.backends.cudnn.deterministic = True\n",
    "    torch.backends.cudnn.benchmark = False\n",
    "    np.random.seed(random_seed)\n",
    "    random.seed(random_seed)\n",
    "    \n",
    "random_seed = 42\n",
    "set_seed(random_seed)"
   ]
  },
  {
   "cell_type": "code",
   "execution_count": 10,
   "metadata": {},
   "outputs": [
    {
     "name": "stdout",
     "output_type": "stream",
     "text": [
      "\n",
      "Label distribution in Train set:\n",
      "label\n",
      "1    0.686893\n",
      "0    0.313107\n",
      "Name: proportion, dtype: float64\n",
      "\n",
      "Label distribution in Validation set:\n",
      "label\n",
      "1    0.634615\n",
      "0    0.365385\n",
      "Name: proportion, dtype: float64\n",
      "\n",
      "Label distribution in Test set:\n",
      "label\n",
      "1    0.72549\n",
      "0    0.27451\n",
      "Name: proportion, dtype: float64\n"
     ]
    }
   ],
   "source": [
    "from sklearn.model_selection import StratifiedGroupKFold\n",
    "\n",
    "# Initialize StratifiedGroupKFold\n",
    "sgkf = StratifiedGroupKFold(n_splits=5)\n",
    "\n",
    "# Get the indices for training and test sets\n",
    "train_idx, temp_idx = next(sgkf.split(df_m2, df_m2['label'], groups=df_m2['SubjectId']))\n",
    "\n",
    "# Create the training and test sets\n",
    "train = df_m2.iloc[train_idx]\n",
    "temp = df_m2.iloc[temp_idx]\n",
    "\n",
    "# Repeat for the validation set\n",
    "sgkf = StratifiedGroupKFold(n_splits=2, shuffle=True, random_state=42)\n",
    "# Get the indices for validation and test sets\n",
    "for val_idx, test_idx in sgkf.split(temp, temp['label'], groups=temp['SubjectId']):\n",
    "    break\n",
    "\n",
    "# Create the validation and test sets\n",
    "val = temp.iloc[val_idx]\n",
    "test = temp.iloc[test_idx]\n",
    "\n",
    "# Verify the label distribution\n",
    "print(\"\\nLabel distribution in Train set:\")\n",
    "print(train['label'].value_counts(normalize=True))\n",
    "print(\"\\nLabel distribution in Validation set:\")\n",
    "print(val['label'].value_counts(normalize=True))\n",
    "print(\"\\nLabel distribution in Test set:\")\n",
    "print(test['label'].value_counts(normalize=True))"
   ]
  },
  {
   "cell_type": "code",
   "execution_count": 11,
   "metadata": {},
   "outputs": [
    {
     "name": "stdout",
     "output_type": "stream",
     "text": [
      "label\n",
      "1    283\n",
      "0    129\n",
      "Name: count, dtype: int64\n",
      "label\n",
      "1    33\n",
      "0    19\n",
      "Name: count, dtype: int64\n",
      "label\n",
      "1    37\n",
      "0    14\n",
      "Name: count, dtype: int64\n"
     ]
    }
   ],
   "source": [
    "# after the chekin g the other lab part 2 below \n",
    "print(train['label'].value_counts())\n",
    "print(val['label'].value_counts())\n",
    "print(test['label'].value_counts())"
   ]
  },
  {
   "cell_type": "code",
   "execution_count": 12,
   "metadata": {},
   "outputs": [],
   "source": [
    "\n",
    "train.to_json('./train_5tasks_SRS_1004_Jan07F2.json', orient='records', lines=True)\n",
    "val.to_json('./val_5tasks_SRS_1004_Jan07F2.json', orient='records', lines=True)\n",
    "test.to_json('./test_5tasks_SRS_1004_Jan07F2.json', orient='records', lines=True)\n",
    "# train.to_json('./train_5tasks_SRS_20250103_labelsplit_0107.son', orient='records', lines=True)\n",
    "# val.to_json('./val_5tasks_SRS_20250103_labelsplit_0107.json', orient='records', lines=True)\n",
    "# test.to_json('./test_5tasks_SRS_20250103_labelsplit_0107.json', orient='records', lines=True)"
   ]
  },
  {
   "cell_type": "code",
   "execution_count": null,
   "metadata": {},
   "outputs": [],
   "source": [
    "# compared and distributed"
   ]
  },
  {
   "cell_type": "code",
   "execution_count": 5,
   "metadata": {},
   "outputs": [
    {
     "name": "stdout",
     "output_type": "stream",
     "text": [
      "del: 2\n",
      "added: 57\n",
      "old: 515\n",
      "new: 571\n"
     ]
    }
   ],
   "source": [
    "# df_m2.to_json('./df_m2_5tasks_SRS_1004_Jan07F2.json', orient='records', lines=True)\n",
    "\n",
    "# df_m2.to_json('./df_m2_5tasks_SRS_20250102_Jan07F2.json', orient='records', lines=True)\n",
    "path = '/home/skbae/Documents/skbae/ASD/paper/4.Multimodal_RiskST/Git/'\n",
    "df_m2_new = pd.read_json(f'{path}df_m2_5tasks_SRS_20250102_Jan07F2.json', orient='records', lines=True)\n",
    "df_m2_old = pd.read_json(f'{path}df_m2_5tasks_SRS_1004_Jan07F2.json', orient='records', lines=True)\n",
    "\n",
    "df_m2_added = df_m2_new[~df_m2_new['SubjectId'].isin(df_m2_old['SubjectId'])]\n",
    "df_m2_del = df_m2_old[~df_m2_old['SubjectId'].isin(df_m2_new['SubjectId'])]\n",
    "\n",
    "\n",
    "print(f\"del: {len(df_m2_del)}\")\n",
    "print(f\"added: {len(df_m2_added)}\")\n",
    "print(f\"old: {len(df_m2_old)}\")\n",
    "print(f\"new: {len(df_m2_new)}\")"
   ]
  },
  {
   "cell_type": "code",
   "execution_count": 8,
   "metadata": {},
   "outputs": [
    {
     "name": "stdout",
     "output_type": "stream",
     "text": [
      "Train Data Length: 455\n",
      "Val Data Length: 58\n",
      "Test Data Length: 57\n"
     ]
    }
   ],
   "source": [
    "import pandas as pd\n",
    "from sklearn.model_selection import StratifiedGroupKFold\n",
    "\n",
    "# 경로 설정\n",
    "path = '/home/skbae/Documents/skbae/ASD/paper/4.Multimodal_RiskST/Git/'\n",
    "\n",
    "# 데이터 불러오기\n",
    "df_m2_new = pd.read_json(f'{path}df_m2_5tasks_SRS_20250102_Jan07F2.json', orient='records', lines=True)\n",
    "df_m2_old = pd.read_json(f'{path}df_m2_5tasks_SRS_1004_Jan07F2.json', orient='records', lines=True)\n",
    "\n",
    "# 추가된 데이터와 삭제된 데이터 추출\n",
    "df_m2_added = df_m2_new[~df_m2_new['SubjectId'].isin(df_m2_old['SubjectId'])]\n",
    "df_m2_del = df_m2_old[~df_m2_old['SubjectId'].isin(df_m2_new['SubjectId'])]\n",
    "\n",
    "# 기존 데이터 불러오기\n",
    "train_old = pd.read_json(f'{path}train_5tasks_SRS_1004_Jan07F2.json', orient='records', lines=True)\n",
    "val_old = pd.read_json(f'{path}val_5tasks_SRS_1004_Jan07F2.json', orient='records', lines=True)\n",
    "test_old = pd.read_json(f'{path}test_5tasks_SRS_1004_Jan07F2.json', orient='records', lines=True)\n",
    "\n",
    "# df_m2_del에 해당하는 데이터를 삭제\n",
    "train_old = train_old[~train_old['SubjectId'].isin(df_m2_del['SubjectId'])]\n",
    "val_old = val_old[~val_old['SubjectId'].isin(df_m2_del['SubjectId'])]\n",
    "test_old = test_old[~test_old['SubjectId'].isin(df_m2_del['SubjectId'])]\n",
    "\n",
    "# df_m2_added 데이터를 8:1:1 비율로 나누기\n",
    "sgkf = StratifiedGroupKFold(n_splits=10, shuffle=True, random_state=42)\n",
    "train_idx, val_idx, test_idx = None, None, None\n",
    "\n",
    "for fold, (train_val_idx, test_idx) in enumerate(sgkf.split(df_m2_added, df_m2_added['label'], groups=df_m2_added['SubjectId'])):\n",
    "    if fold == 0:\n",
    "        train_idx, temp_idx = train_val_idx, test_idx\n",
    "        break\n",
    "\n",
    "sgkf = StratifiedGroupKFold(n_splits=9, shuffle=True, random_state=42)\n",
    "for fold, (train_idx, val_idx) in enumerate(sgkf.split(df_m2_added.iloc[train_idx], df_m2_added.iloc[train_idx]['label'], groups=df_m2_added.iloc[train_idx]['SubjectId'])):\n",
    "    if fold == 0:\n",
    "        break\n",
    "\n",
    "train_added = df_m2_added.iloc[train_idx]\n",
    "val_added = df_m2_added.iloc[val_idx]\n",
    "test_added = df_m2_added.iloc[test_idx]\n",
    "\n",
    "# 기존 데이터에 추가된 데이터를 합치기\n",
    "train = pd.concat([train_old, train_added])\n",
    "val = pd.concat([val_old, val_added])\n",
    "test = pd.concat([test_old, test_added])\n",
    "\n",
    "# 결과 출력\n",
    "print(f\"Train Data Length: {len(train)}\")\n",
    "print(f\"Val Data Length: {len(val)}\")\n",
    "print(f\"Test Data Length: {len(test)}\")\n",
    "\n",
    "# 데이터를 JSON 파일로 저장\n",
    "train.to_json(f'{path}train_5tasks_SRS_updated.json', orient='records', lines=True)\n",
    "val.to_json(f'{path}val_5tasks_SRS_updated.json', orient='records', lines=True)\n",
    "test.to_json(f'{path}test_5tasks_SRS_updated.json', orient='records', lines=True)"
   ]
  },
  {
   "cell_type": "code",
   "execution_count": 9,
   "metadata": {},
   "outputs": [
    {
     "name": "stdout",
     "output_type": "stream",
     "text": [
      "label\n",
      "1    299\n",
      "0    156\n",
      "Name: count, dtype: int64\n",
      "label\n",
      "1    36\n",
      "0    22\n",
      "Name: count, dtype: int64\n",
      "label\n",
      "1    39\n",
      "0    18\n",
      "Name: count, dtype: int64\n"
     ]
    }
   ],
   "source": [
    "# after the chekin g the other lab part 2 below \n",
    "print(train['label'].value_counts())\n",
    "print(val['label'].value_counts())\n",
    "print(test['label'].value_counts())"
   ]
  },
  {
   "cell_type": "code",
   "execution_count": 10,
   "metadata": {},
   "outputs": [],
   "source": [
    "import pandas as pd\n",
    "import torch\n",
    "import numpy as np\n",
    "import matplotlib.pyplot as plt\n",
    "import random\n",
    "from sklearn.model_selection import train_test_split, StratifiedGroupKFold\n",
    "from torch.utils.data import DataLoader, Dataset\n",
    "from transformers import Trainer, TrainingArguments\n",
    "from transformers import RobertaTokenizerFast, RobertaForSequenceClassification\n",
    "from transformers.models.roberta.modeling_roberta import RobertaClassificationHead\n",
    "from transformers.modeling_outputs import SequenceClassifierOutput\n",
    "import os\n",
    "from torch.nn import BCEWithLogitsLoss, CrossEntropyLoss, MSELoss\n",
    "from typing import List, Optional, Tuple, Union\n",
    "from sklearn.metrics import f1_score, precision_score, recall_score, accuracy_score, roc_auc_score, average_precision_score, confusion_matrix, classification_report, roc_curve, auc\n",
    "from sklearn.preprocessing import label_binarize\n",
    "from scipy.special import softmax\n",
    "import seaborn as sns\n",
    "\n",
    "# --- Global Settings ---\n",
    "RANDOM_SEED = 42  # Set your desired seed\n",
    "MODEL_NAME = 'roberta-large'\n",
    "NUM_LABELS = 2\n",
    "# DATA_PATH = ''  # Your data path\n",
    "SAVE_DIR = f\"../Roberta/ROBERTA_SRS_6tasks_Rmodel_Binary_ASD_vs_High_1004_20250102_seed_{RANDOM_SEED}_Jan09F\"  \n",
    "\n",
    "import random\n",
    "def set_seed(random_seed):\n",
    "    torch.manual_seed(random_seed)\n",
    "    torch.cuda.manual_seed(random_seed)\n",
    "    # torch.cuda.manual_seed_all(random_seed)  # if use multi-GPU\n",
    "    torch.backends.cudnn.deterministic = True\n",
    "    torch.backends.cudnn.benchmark = False\n",
    "    np.random.seed(random_seed)\n",
    "    random.seed(random_seed)\n",
    "set_seed(RANDOM_SEED)\n",
    "# --- Helper Functions ---\n",
    "\n",
    "# def set_seed(seed):\n",
    "#     \"\"\"Sets the seed for reproducibility.\"\"\"\n",
    "#     torch.manual_seed(seed)\n",
    "#     if torch.cuda.is_available():\n",
    "#         torch.cuda.manual_seed(seed)\n",
    "#         torch.cuda.manual_seed_all(seed)  # For multi-GPU\n",
    "#     torch.backends.cudnn.deterministic = True\n",
    "#     torch.backends.cudnn.benchmark = False\n",
    "#     np.random.seed(seed)\n",
    "#     random.seed(seed)\n",
    "\n",
    "# --- Data Loading and Preprocessing ---\n",
    "\n",
    "# def load_and_preprocess_data(df_m2):\n",
    "#     \"\"\"Loads, preprocesses, and splits the data into train, val, and test sets.\"\"\"\n",
    "#     # df_sF = pd.read_json(f'{data_path}merged_int_SRS_df_op1_2nd_1004_Nov04.json', orient='records', lines=True)\n",
    "#     # #df_sF = pd.read_json(f'{data_path}merged_int_SRS_df_op1_2nd_1004_Nov04.json', orient='records', lines=True) # merged_int_SRS_df_op1_2nd_1004_Nov04.json\n",
    "\n",
    "#     # # Filter and map labels (if needed)\n",
    "#     # # Modify this part if you need different label filtering/mapping\n",
    "#     # df_sF2 = df_sF[df_sF['Class'].isin([1, 2])]\n",
    "#     # df_sF2['label'] = df_sF2['Class'].replace({1: 0, 2: 1}) \n",
    "#     # df_m2 = df_sF2\n",
    "\n",
    "#     # Split data using StratifiedGroupKFold\n",
    "#     sgkf = StratifiedGroupKFold(n_splits=5, shuffle=True, random_state=RANDOM_SEED)\n",
    "\n",
    "#     # Get the indices for training and the rest\n",
    "#     train_idx, temp_idx = next(sgkf.split(df_m2, df_m2['label'], groups=df_m2['SubjectId']))\n",
    "#     train = df_m2.iloc[train_idx]\n",
    "#     temp = df_m2.iloc[temp_idx]\n",
    "\n",
    "#     # Split the rest into validation and test sets\n",
    "#     sgkf_val_test = StratifiedGroupKFold(n_splits=2, shuffle=True, random_state=RANDOM_SEED)\n",
    "#     val_idx, test_idx = next(sgkf_val_test.split(temp, temp['label'], groups=temp['SubjectId']))\n",
    "#     val = temp.iloc[val_idx]\n",
    "#     test = temp.iloc[test_idx]\n",
    "    \n",
    "#     return train, val, test\n",
    "\n",
    "# --- Tokenization and Dataset Creation ---\n",
    "\n",
    "def tokenize_and_pad(tokenizer, dataset, max_length=567):\n",
    "    \"\"\"Tokenizes and pads the input text.\"\"\"\n",
    "    return tokenizer(\n",
    "        dataset['text'].tolist(),\n",
    "        truncation=True,\n",
    "        padding=True,\n",
    "        max_length=max_length\n",
    "    )\n",
    "\n",
    "class ASD_Dataset(Dataset):\n",
    "    \"\"\"Custom Dataset class for ASD classification.\"\"\"\n",
    "    def __init__(self, encodings, labels, subject_ids):\n",
    "        self.encodings = encodings\n",
    "        self.labels = labels\n",
    "        self.subject_ids = subject_ids\n",
    "\n",
    "    def __getitem__(self, idx):\n",
    "        item = {key: torch.tensor(val[idx]) for key, val in self.encodings.items()}\n",
    "        item['labels'] = torch.tensor(self.labels[idx])\n",
    "        item['SubjectId'] = self.subject_ids[idx]\n",
    "        return item\n",
    "\n",
    "    def __len__(self):\n",
    "        return len(self.labels)\n",
    "\n",
    "    @property\n",
    "    def column_names(self):\n",
    "        return list(self.encodings.keys()) + ['labels', 'SubjectId']\n",
    "\n",
    "# --- Model and Training Setup ---\n",
    "\n",
    "def setup_model_and_training_args():\n",
    "    \"\"\"Sets up the RoBERTa model, tokenizer, and training arguments.\"\"\"\n",
    "    model = RobertaForSequenceClassification.from_pretrained(MODEL_NAME, num_labels=NUM_LABELS)\n",
    "    tokenizer = RobertaTokenizerFast.from_pretrained(MODEL_NAME)\n",
    "\n",
    "    training_args = TrainingArguments(\n",
    "        output_dir='./output',\n",
    "        num_train_epochs=10,\n",
    "        per_device_train_batch_size=8,\n",
    "        per_device_eval_batch_size=8,\n",
    "        warmup_steps=0,\n",
    "        weight_decay=1e-8,\n",
    "        logging_dir='./Roberta/log',\n",
    "        logging_steps=10,\n",
    "        evaluation_strategy='epoch',\n",
    "        save_strategy='epoch',\n",
    "        learning_rate=2e-5,\n",
    "        gradient_accumulation_steps=4,\n",
    "        load_best_model_at_end=True,\n",
    "        metric_for_best_model='eval_loss',\n",
    "    )\n",
    "\n",
    "    return model, tokenizer, training_args\n",
    "\n",
    "# --- Evaluation Metrics ---\n",
    "\n",
    "def compute_metrics_binary(p):\n",
    "    \"\"\"Computes evaluation metrics for binary classification.\"\"\"\n",
    "    predictions, labels = p\n",
    "    predictions = np.argmax(predictions, axis=1)\n",
    "\n",
    "    f1 = f1_score(labels, predictions, average='binary')\n",
    "    precision = precision_score(labels, predictions, average='binary')\n",
    "    recall = recall_score(labels, predictions, average='binary')\n",
    "    acc = accuracy_score(labels, predictions)\n",
    "    auroc = roc_auc_score(labels, predictions)\n",
    "    avgprc = average_precision_score(labels, predictions)\n",
    "\n",
    "    return {\n",
    "        \"acc\": acc,\n",
    "        \"f1\": f1,\n",
    "        \"precision\": precision,\n",
    "        \"recall\": recall,\n",
    "        \"auroc\": auroc,\n",
    "        \"avgprc\": avgprc\n",
    "    }\n",
    "\n"
   ]
  },
  {
   "cell_type": "code",
   "execution_count": 11,
   "metadata": {},
   "outputs": [
    {
     "name": "stderr",
     "output_type": "stream",
     "text": [
      "Some weights of RobertaForSequenceClassification were not initialized from the model checkpoint at roberta-large and are newly initialized: ['classifier.dense.bias', 'classifier.dense.weight', 'classifier.out_proj.bias', 'classifier.out_proj.weight']\n",
      "You should probably TRAIN this model on a down-stream task to be able to use it for predictions and inference.\n",
      "huggingface/tokenizers: The current process just got forked, after parallelism has already been used. Disabling parallelism to avoid deadlocks...\n",
      "To disable this warning, you can either:\n",
      "\t- Avoid using `tokenizers` before the fork if possible\n",
      "\t- Explicitly set the environment variable TOKENIZERS_PARALLELISM=(true | false)\n",
      "huggingface/tokenizers: The current process just got forked, after parallelism has already been used. Disabling parallelism to avoid deadlocks...\n",
      "To disable this warning, you can either:\n",
      "\t- Avoid using `tokenizers` before the fork if possible\n",
      "\t- Explicitly set the environment variable TOKENIZERS_PARALLELISM=(true | false)\n",
      "huggingface/tokenizers: The current process just got forked, after parallelism has already been used. Disabling parallelism to avoid deadlocks...\n",
      "To disable this warning, you can either:\n",
      "\t- Avoid using `tokenizers` before the fork if possible\n",
      "\t- Explicitly set the environment variable TOKENIZERS_PARALLELISM=(true | false)\n",
      "\u001b[34m\u001b[1mwandb\u001b[0m: Using wandb-core as the SDK backend. Please refer to https://wandb.me/wandb-core for more information.\n",
      "huggingface/tokenizers: The current process just got forked, after parallelism has already been used. Disabling parallelism to avoid deadlocks...\n",
      "To disable this warning, you can either:\n",
      "\t- Avoid using `tokenizers` before the fork if possible\n",
      "\t- Explicitly set the environment variable TOKENIZERS_PARALLELISM=(true | false)\n",
      "\u001b[34m\u001b[1mwandb\u001b[0m: Currently logged in as: \u001b[33msookyungbae\u001b[0m. Use \u001b[1m`wandb login --relogin`\u001b[0m to force relogin\n",
      "huggingface/tokenizers: The current process just got forked, after parallelism has already been used. Disabling parallelism to avoid deadlocks...\n",
      "To disable this warning, you can either:\n",
      "\t- Avoid using `tokenizers` before the fork if possible\n",
      "\t- Explicitly set the environment variable TOKENIZERS_PARALLELISM=(true | false)\n"
     ]
    },
    {
     "data": {
      "text/html": [
       "Tracking run with wandb version 0.18.3"
      ],
      "text/plain": [
       "<IPython.core.display.HTML object>"
      ]
     },
     "metadata": {},
     "output_type": "display_data"
    },
    {
     "data": {
      "text/html": [
       "Run data is saved locally in <code>/home/skbae/Documents/skbae/ASD/paper/4.Multimodal_RiskST/Git/wandb/run-20250109_125502-j1oblw20</code>"
      ],
      "text/plain": [
       "<IPython.core.display.HTML object>"
      ]
     },
     "metadata": {},
     "output_type": "display_data"
    },
    {
     "data": {
      "text/html": [
       "Syncing run <strong><a href='https://wandb.ai/sookyungbae/huggingface/runs/j1oblw20' target=\"_blank\">scarlet-rain-152</a></strong> to <a href='https://wandb.ai/sookyungbae/huggingface' target=\"_blank\">Weights & Biases</a> (<a href='https://wandb.me/run' target=\"_blank\">docs</a>)<br/>"
      ],
      "text/plain": [
       "<IPython.core.display.HTML object>"
      ]
     },
     "metadata": {},
     "output_type": "display_data"
    },
    {
     "data": {
      "text/html": [
       " View project at <a href='https://wandb.ai/sookyungbae/huggingface' target=\"_blank\">https://wandb.ai/sookyungbae/huggingface</a>"
      ],
      "text/plain": [
       "<IPython.core.display.HTML object>"
      ]
     },
     "metadata": {},
     "output_type": "display_data"
    },
    {
     "data": {
      "text/html": [
       " View run at <a href='https://wandb.ai/sookyungbae/huggingface/runs/j1oblw20' target=\"_blank\">https://wandb.ai/sookyungbae/huggingface/runs/j1oblw20</a>"
      ],
      "text/plain": [
       "<IPython.core.display.HTML object>"
      ]
     },
     "metadata": {},
     "output_type": "display_data"
    },
    {
     "data": {
      "application/vnd.jupyter.widget-view+json": {
       "model_id": "80ed238d8c48417caf139ef84abdd3e9",
       "version_major": 2,
       "version_minor": 0
      },
      "text/plain": [
       "  0%|          | 0/140 [00:00<?, ?it/s]"
      ]
     },
     "metadata": {},
     "output_type": "display_data"
    },
    {
     "name": "stdout",
     "output_type": "stream",
     "text": [
      "{'loss': 0.6897, 'grad_norm': 4.005770683288574, 'learning_rate': 1.8571428571428575e-05, 'epoch': 0.7}\n"
     ]
    },
    {
     "data": {
      "application/vnd.jupyter.widget-view+json": {
       "model_id": "8446db463f3645f5bb26c0bc7d284212",
       "version_major": 2,
       "version_minor": 0
      },
      "text/plain": [
       "  0%|          | 0/8 [00:00<?, ?it/s]"
      ]
     },
     "metadata": {},
     "output_type": "display_data"
    },
    {
     "name": "stderr",
     "output_type": "stream",
     "text": [
      "Checkpoint destination directory ./output/checkpoint-14 already exists and is non-empty. Saving will proceed but saved results may be invalid.\n"
     ]
    },
    {
     "name": "stdout",
     "output_type": "stream",
     "text": [
      "{'eval_loss': 0.6570467352867126, 'eval_acc': 0.6206896551724138, 'eval_f1': 0.7659574468085106, 'eval_precision': 0.6206896551724138, 'eval_recall': 1.0, 'eval_auroc': 0.5, 'eval_avgprc': 0.6206896551724138, 'eval_runtime': 1.4872, 'eval_samples_per_second': 38.998, 'eval_steps_per_second': 5.379, 'epoch': 0.98}\n",
      "{'loss': 0.6092, 'grad_norm': 10.347908973693848, 'learning_rate': 1.7142857142857142e-05, 'epoch': 1.4}\n"
     ]
    },
    {
     "data": {
      "application/vnd.jupyter.widget-view+json": {
       "model_id": "808144a4a9064e0e8c09ebda69bab362",
       "version_major": 2,
       "version_minor": 0
      },
      "text/plain": [
       "  0%|          | 0/8 [00:00<?, ?it/s]"
      ]
     },
     "metadata": {},
     "output_type": "display_data"
    },
    {
     "name": "stdout",
     "output_type": "stream",
     "text": [
      "{'eval_loss': 0.5385600924491882, 'eval_acc': 0.7413793103448276, 'eval_f1': 0.810126582278481, 'eval_precision': 0.7441860465116279, 'eval_recall': 0.8888888888888888, 'eval_auroc': 0.6944444444444444, 'eval_avgprc': 0.7304642252517152, 'eval_runtime': 1.4667, 'eval_samples_per_second': 39.545, 'eval_steps_per_second': 5.454, 'epoch': 1.96}\n",
      "{'loss': 0.5351, 'grad_norm': 59.68698501586914, 'learning_rate': 1.5714285714285715e-05, 'epoch': 2.11}\n",
      "{'loss': 0.49, 'grad_norm': 8.831342697143555, 'learning_rate': 1.4285714285714287e-05, 'epoch': 2.81}\n"
     ]
    },
    {
     "data": {
      "application/vnd.jupyter.widget-view+json": {
       "model_id": "f6d13772a90d4dd0aa0fd6766cc0b48f",
       "version_major": 2,
       "version_minor": 0
      },
      "text/plain": [
       "  0%|          | 0/8 [00:00<?, ?it/s]"
      ]
     },
     "metadata": {},
     "output_type": "display_data"
    },
    {
     "name": "stdout",
     "output_type": "stream",
     "text": [
      "{'eval_loss': 0.6051468849182129, 'eval_acc': 0.7068965517241379, 'eval_f1': 0.7792207792207793, 'eval_precision': 0.7317073170731707, 'eval_recall': 0.8333333333333334, 'eval_auroc': 0.6666666666666667, 'eval_avgprc': 0.7132043734230445, 'eval_runtime': 1.4954, 'eval_samples_per_second': 38.785, 'eval_steps_per_second': 5.35, 'epoch': 2.95}\n",
      "{'loss': 0.531, 'grad_norm': 12.639811515808105, 'learning_rate': 1.2857142857142859e-05, 'epoch': 3.51}\n"
     ]
    },
    {
     "data": {
      "application/vnd.jupyter.widget-view+json": {
       "model_id": "056b8f46e12e4a4385d475c97574a272",
       "version_major": 2,
       "version_minor": 0
      },
      "text/plain": [
       "  0%|          | 0/8 [00:00<?, ?it/s]"
      ]
     },
     "metadata": {},
     "output_type": "display_data"
    },
    {
     "name": "stdout",
     "output_type": "stream",
     "text": [
      "{'eval_loss': 0.5424844622612, 'eval_acc': 0.7413793103448276, 'eval_f1': 0.810126582278481, 'eval_precision': 0.7441860465116279, 'eval_recall': 0.8888888888888888, 'eval_auroc': 0.6944444444444444, 'eval_avgprc': 0.7304642252517152, 'eval_runtime': 1.5371, 'eval_samples_per_second': 37.734, 'eval_steps_per_second': 5.205, 'epoch': 4.0}\n",
      "{'loss': 0.4811, 'grad_norm': 5.935698509216309, 'learning_rate': 1.1428571428571429e-05, 'epoch': 4.21}\n",
      "{'loss': 0.4996, 'grad_norm': 11.987719535827637, 'learning_rate': 1e-05, 'epoch': 4.91}\n"
     ]
    },
    {
     "data": {
      "application/vnd.jupyter.widget-view+json": {
       "model_id": "c320be3a4bd94457a99790fa8bcffc19",
       "version_major": 2,
       "version_minor": 0
      },
      "text/plain": [
       "  0%|          | 0/8 [00:00<?, ?it/s]"
      ]
     },
     "metadata": {},
     "output_type": "display_data"
    },
    {
     "name": "stdout",
     "output_type": "stream",
     "text": [
      "{'eval_loss': 0.5921149849891663, 'eval_acc': 0.7413793103448276, 'eval_f1': 0.8148148148148148, 'eval_precision': 0.7333333333333333, 'eval_recall': 0.9166666666666666, 'eval_auroc': 0.6856060606060606, 'eval_avgprc': 0.7239463601532566, 'eval_runtime': 1.492, 'eval_samples_per_second': 38.873, 'eval_steps_per_second': 5.362, 'epoch': 4.98}\n",
      "{'loss': 0.4433, 'grad_norm': 4.099149227142334, 'learning_rate': 8.571428571428571e-06, 'epoch': 5.61}\n"
     ]
    },
    {
     "data": {
      "application/vnd.jupyter.widget-view+json": {
       "model_id": "56542af39adf46b8bc45a7c1242e0ec2",
       "version_major": 2,
       "version_minor": 0
      },
      "text/plain": [
       "  0%|          | 0/8 [00:00<?, ?it/s]"
      ]
     },
     "metadata": {},
     "output_type": "display_data"
    },
    {
     "name": "stdout",
     "output_type": "stream",
     "text": [
      "{'eval_loss': 0.6687108874320984, 'eval_acc': 0.7241379310344828, 'eval_f1': 0.8048780487804879, 'eval_precision': 0.717391304347826, 'eval_recall': 0.9166666666666666, 'eval_auroc': 0.6628787878787878, 'eval_avgprc': 0.7093328335832083, 'eval_runtime': 1.4845, 'eval_samples_per_second': 39.07, 'eval_steps_per_second': 5.389, 'epoch': 5.96}\n",
      "{'loss': 0.446, 'grad_norm': 5.262945652008057, 'learning_rate': 7.1428571428571436e-06, 'epoch': 6.32}\n"
     ]
    },
    {
     "data": {
      "application/vnd.jupyter.widget-view+json": {
       "model_id": "3c80938dfae94319a67502aa0634321c",
       "version_major": 2,
       "version_minor": 0
      },
      "text/plain": [
       "  0%|          | 0/8 [00:00<?, ?it/s]"
      ]
     },
     "metadata": {},
     "output_type": "display_data"
    },
    {
     "name": "stdout",
     "output_type": "stream",
     "text": [
      "{'eval_loss': 0.586999773979187, 'eval_acc': 0.7758620689655172, 'eval_f1': 0.8354430379746836, 'eval_precision': 0.7674418604651163, 'eval_recall': 0.9166666666666666, 'eval_auroc': 0.731060606060606, 'eval_avgprc': 0.7552125100240578, 'eval_runtime': 1.4887, 'eval_samples_per_second': 38.96, 'eval_steps_per_second': 5.374, 'epoch': 6.95}\n",
      "{'loss': 0.4139, 'grad_norm': 10.26574420928955, 'learning_rate': 5.7142857142857145e-06, 'epoch': 7.02}\n",
      "{'loss': 0.3746, 'grad_norm': 4.093924522399902, 'learning_rate': 4.2857142857142855e-06, 'epoch': 7.72}\n"
     ]
    },
    {
     "data": {
      "application/vnd.jupyter.widget-view+json": {
       "model_id": "f851271e70234b4cb4d72c99af7287cc",
       "version_major": 2,
       "version_minor": 0
      },
      "text/plain": [
       "  0%|          | 0/8 [00:00<?, ?it/s]"
      ]
     },
     "metadata": {},
     "output_type": "display_data"
    },
    {
     "name": "stdout",
     "output_type": "stream",
     "text": [
      "{'eval_loss': 0.5246720910072327, 'eval_acc': 0.7413793103448276, 'eval_f1': 0.7887323943661971, 'eval_precision': 0.8, 'eval_recall': 0.7777777777777778, 'eval_auroc': 0.7297979797979798, 'eval_avgprc': 0.7601532567049809, 'eval_runtime': 1.4969, 'eval_samples_per_second': 38.745, 'eval_steps_per_second': 5.344, 'epoch': 8.0}\n",
      "{'loss': 0.4121, 'grad_norm': 13.179999351501465, 'learning_rate': 2.8571428571428573e-06, 'epoch': 8.42}\n"
     ]
    },
    {
     "data": {
      "application/vnd.jupyter.widget-view+json": {
       "model_id": "246f21e0bc474308b09fe125226c4b03",
       "version_major": 2,
       "version_minor": 0
      },
      "text/plain": [
       "  0%|          | 0/8 [00:00<?, ?it/s]"
      ]
     },
     "metadata": {},
     "output_type": "display_data"
    },
    {
     "name": "stdout",
     "output_type": "stream",
     "text": [
      "{'eval_loss': 0.528542697429657, 'eval_acc': 0.7413793103448276, 'eval_f1': 0.8051948051948052, 'eval_precision': 0.7560975609756098, 'eval_recall': 0.8611111111111112, 'eval_auroc': 0.7032828282828283, 'eval_avgprc': 0.7372909073918326, 'eval_runtime': 1.5214, 'eval_samples_per_second': 38.123, 'eval_steps_per_second': 5.258, 'epoch': 8.98}\n",
      "{'loss': 0.3855, 'grad_norm': 7.925923824310303, 'learning_rate': 1.4285714285714286e-06, 'epoch': 9.12}\n",
      "{'loss': 0.3647, 'grad_norm': 3.942628860473633, 'learning_rate': 0.0, 'epoch': 9.82}\n"
     ]
    },
    {
     "data": {
      "application/vnd.jupyter.widget-view+json": {
       "model_id": "ac1b80829529429a99ce19ec5b0ddb6b",
       "version_major": 2,
       "version_minor": 0
      },
      "text/plain": [
       "  0%|          | 0/8 [00:00<?, ?it/s]"
      ]
     },
     "metadata": {},
     "output_type": "display_data"
    },
    {
     "name": "stderr",
     "output_type": "stream",
     "text": [
      "Checkpoint destination directory ./output/checkpoint-140 already exists and is non-empty. Saving will proceed but saved results may be invalid.\n"
     ]
    },
    {
     "name": "stdout",
     "output_type": "stream",
     "text": [
      "{'eval_loss': 0.5281287431716919, 'eval_acc': 0.7586206896551724, 'eval_f1': 0.8157894736842105, 'eval_precision': 0.775, 'eval_recall': 0.8611111111111112, 'eval_auroc': 0.726010101010101, 'eval_avgprc': 0.7535680076628353, 'eval_runtime': 1.4728, 'eval_samples_per_second': 39.38, 'eval_steps_per_second': 5.432, 'epoch': 9.82}\n",
      "{'train_runtime': 919.3847, 'train_samples_per_second': 4.949, 'train_steps_per_second': 0.152, 'train_loss': 0.4768392034939357, 'epoch': 9.82}\n"
     ]
    },
    {
     "data": {
      "application/vnd.jupyter.widget-view+json": {
       "model_id": "b9bce9c45555417f8aa7408779cf56d9",
       "version_major": 2,
       "version_minor": 0
      },
      "text/plain": [
       "  0%|          | 0/8 [00:00<?, ?it/s]"
      ]
     },
     "metadata": {},
     "output_type": "display_data"
    },
    {
     "data": {
      "image/png": "[encoded data removed]",
      "text/plain": [
       "<Figure size 640x480 with 2 Axes>"
      ]
     },
     "metadata": {},
     "output_type": "display_data"
    },
    {
     "name": "stdout",
     "output_type": "stream",
     "text": [
      "Classification Report:\n",
      "               precision    recall  f1-score   support\n",
      "\n",
      "           0       0.68      0.83      0.75        18\n",
      "           1       0.91      0.82      0.86        39\n",
      "\n",
      "    accuracy                           0.82        57\n",
      "   macro avg       0.80      0.83      0.81        57\n",
      "weighted avg       0.84      0.82      0.83        57\n",
      "\n"
     ]
    },
    {
     "data": {
      "image/png": "[encoded data removed]",
      "text/plain": [
       "<Figure size 640x480 with 1 Axes>"
      ]
     },
     "metadata": {},
     "output_type": "display_data"
    },
    {
     "name": "stdout",
     "output_type": "stream",
     "text": [
      "    SubjectId                                               text  True_Labels  \\\n",
      "0  1023041001  Task Results:  Success of Responded to name ,S...            1   \n",
      "1  1023052034  Task Results:  Success of Responded to name ,S...            1   \n",
      "2  1023053011  Task Results:  Failure of  ,Failure of  ,Succe...            1   \n",
      "3  1023061461  Task Results:  Success of Responded to name ,S...            1   \n",
      "4  1023080172  Task Results:  Failure of  ,Success of Mimicke...            1   \n",
      "\n",
      "   Predictions              Probabilities  \n",
      "0            1   [0.08660594, 0.91339403]  \n",
      "1            1    [0.21910988, 0.7808901]  \n",
      "2            0   [0.84990567, 0.15009439]  \n",
      "3            1  [0.013302803, 0.98669714]  \n",
      "4            1   [0.012546764, 0.9874533]  \n"
     ]
    }
   ],
   "source": [
    "# --- Main Script ---\n",
    "\n",
    "if __name__ == \"__main__\":\n",
    "    # set_seed(RANDOM_SEED)\n",
    "\n",
    "    # # Load and preprocess data\n",
    "    # train, val, test = load_and_preprocess_data(df_m2)\n",
    "\n",
    "    # Setup model, tokenizer, and training arguments\n",
    "    model, tokenizer, training_args = setup_model_and_training_args()\n",
    "\n",
    "    # Tokenize data\n",
    "    train_encodings = tokenize_and_pad(tokenizer, train)\n",
    "    val_encodings = tokenize_and_pad(tokenizer, val)\n",
    "    test_encodings = tokenize_and_pad(tokenizer, test)\n",
    "\n",
    "    # Extract SubjectIds\n",
    "    train_subject_ids = train['SubjectId'].tolist()\n",
    "    val_subject_ids = val['SubjectId'].tolist()\n",
    "    test_subject_ids = test['SubjectId'].tolist()\n",
    "\n",
    "    # Create datasets\n",
    "    train_dataset = ASD_Dataset(train_encodings, train['label'].tolist(), train_subject_ids)\n",
    "    val_dataset = ASD_Dataset(val_encodings, val['label'].tolist(), val_subject_ids)\n",
    "    test_dataset = ASD_Dataset(test_encodings, test['label'].tolist(), test_subject_ids)\n",
    "\n",
    "    # Initialize Trainer\n",
    "    trainer = Trainer(\n",
    "        model=model,\n",
    "        args=training_args,\n",
    "        train_dataset=train_dataset,\n",
    "        eval_dataset=val_dataset,\n",
    "        compute_metrics=compute_metrics_binary\n",
    "    )\n",
    "\n",
    "    # Train the model\n",
    "    trainer.train()\n",
    "\n",
    "    # Save the model and tokenizer\n",
    "    trainer.save_model(SAVE_DIR)\n",
    "    tokenizer.save_pretrained(SAVE_DIR)\n",
    "\n",
    "    # Generate predictions on the test set\n",
    "    predictions_output = trainer.predict(test_dataset)\n",
    "    predictions = np.argmax(predictions_output.predictions, axis=-1)\n",
    "    probabilities = softmax(predictions_output.predictions, axis=-1)\n",
    "    true_labels = predictions_output.label_ids\n",
    "\n",
    "    # Create a DataFrame for results\n",
    "    df_results = pd.DataFrame({\n",
    "        'True_Labels': true_labels,\n",
    "        'Predictions': predictions,\n",
    "        'Probabilities': list(probabilities)\n",
    "    })\n",
    "\n",
    "\n",
    "    # --- Evaluation and Visualization ---\n",
    "\n",
    "    # Confusion Matrix\n",
    "    conf_matrix = confusion_matrix(df_results['True_Labels'], df_results['Predictions'])\n",
    "    sns.heatmap(conf_matrix, annot=True, fmt='g')\n",
    "    plt.xlabel('Predicted Labels')\n",
    "    plt.ylabel('True Labels')\n",
    "    plt.title('Confusion Matrix')\n",
    "    plt.show()\n",
    "\n",
    "    # Classification Report\n",
    "    class_report = classification_report(df_results['True_Labels'], df_results['Predictions'])\n",
    "    print(\"Classification Report:\\n\", class_report)\n",
    "\n",
    "    # ROC Curve\n",
    "    y_true = np.array(df_results['True_Labels'])  # Corrected line: Added .array\n",
    "    y_proba = np.array([proba[1] for proba in df_results['Probabilities']])\n",
    "    fpr, tpr, _ = roc_curve(y_true, y_proba)\n",
    "    roc_auc = auc(fpr, tpr)\n",
    "\n",
    "    plt.plot(fpr, tpr, color='darkorange', lw=2, label='ROC curve (area = %0.2f)' % roc_auc)\n",
    "    plt.plot([0, 1], [0, 1], color='navy', lw=2, linestyle='--')\n",
    "    plt.xlim([0.0, 1.0])\n",
    "    plt.ylim([0.0, 1.05])\n",
    "    plt.xlabel('False Positive Rate')\n",
    "    plt.ylabel('True Positive Rate')\n",
    "    plt.title('Receiver Operating Characteristic')\n",
    "    plt.legend(loc=\"lower right\")\n",
    "    plt.show()\n",
    "\n",
    "    # Create a detailed DataFrame with predictions, probabilities, and text\n",
    "    test_data = [test_dataset[i] for i in range(len(test_dataset))]\n",
    "    df_test_data = pd.DataFrame(test_data)\n",
    "    df_test_data['True_Labels'] = true_labels\n",
    "    df_test_data['Predictions'] = predictions\n",
    "    df_test_data['Probabilities'] = list(probabilities)\n",
    "\n",
    "    # Add the original text to the DataFrame\n",
    "    df_test_data['text'] = test['text'].tolist()\n",
    "\n",
    "    # Example: Display a few rows with text, predictions, and probabilities\n",
    "    print(df_test_data[['SubjectId','text', 'True_Labels', 'Predictions', 'Probabilities']].head())\n",
    "\n",
    "    # (Optional) Save the detailed DataFrame to a CSV\n",
    "    # df_test_data.to_csv('test_predictions_with_details.csv', index=False)\n",
    "\n",
    "    # (Optional) Print the training logs\n",
    "    # print(trainer.state.log_history)"
   ]
  },
  {
   "cell_type": "code",
   "execution_count": 12,
   "metadata": {},
   "outputs": [],
   "source": [
    "# Generate predictions for train, validation, and test sets\n",
    "fold_num = 42 # 100 # 2021 # 100, 42 # 12345 , 7, 2021 #42,"
   ]
  },
  {
   "cell_type": "code",
   "execution_count": 13,
   "metadata": {},
   "outputs": [],
   "source": [
    "import numpy as np\n",
    "import pandas as pd\n",
    "from sklearn.metrics import confusion_matrix, classification_report, roc_curve, roc_auc_score\n",
    "\n",
    "from scipy.special import softmax\n",
    "import matplotlib.pyplot as plt\n",
    "import seaborn as sns\n",
    "import torch\n",
    "from torch.utils.data import Dataset\n",
    "\n",
    "# ... (your existing code) ...\n",
    "\n",
    "# Step 2: Tokenize and Prepare Data\n",
    "def tokenize_and_pad(dataset):\n",
    "    return tokenizer(\n",
    "        dataset['text'].tolist(),  # Use 'Combined_Text' instead of 'text'\n",
    "        truncation=True,\n",
    "        padding=True,\n",
    "        max_length=567  # Set maximum length to 494 tokens\n",
    "    )\n",
    "\n",
    "# Tokenize the datasets\n",
    "train_encodings = tokenize_and_pad(train)\n",
    "val_encodings = tokenize_and_pad(val)\n",
    "test_encodings = tokenize_and_pad(test)\n",
    "\n",
    "# Extract SubjectIds and Class labels before tokenization\n",
    "train_subject_ids = train['SubjectId'].tolist()\n",
    "val_subject_ids = val['SubjectId'].tolist()\n",
    "test_subject_ids = test['SubjectId'].tolist()\n",
    "train_classes = train['Class'].tolist()  # Extract Class labels\n",
    "val_classes = val['Class'].tolist()\n",
    "test_classes = test['Class'].tolist()\n",
    "\n",
    "# Define the ASD_Dataset class\n",
    "class ASD_Dataset(Dataset):\n",
    "    def __init__(self, encodings, labels, subject_ids, classes):  # Add classes parameter\n",
    "        self.encodings = encodings\n",
    "        self.labels = labels\n",
    "        self.subject_ids = subject_ids\n",
    "        self.classes = classes  # Store Class labels\n",
    "\n",
    "    def __getitem__(self, idx):\n",
    "        item = {key: torch.tensor(val[idx]) for key, val in self.encodings.items()}\n",
    "        item['labels'] = torch.tensor(self.labels[idx])\n",
    "\n",
    "        item['SubjectId'] = self.subject_ids[idx]\n",
    "        item['Class'] = self.classes[idx]  # Include Class label in the item\n",
    "        return item\n",
    "\n",
    "    def __len__(self):\n",
    "        return len(self.labels)\n",
    "\n",
    "    @property\n",
    "    def column_names(self):\n",
    "        return list(self.encodings.keys()) + ['labels', 'SubjectId', 'Class']  # Add 'Class'\n",
    "\n",
    "\n",
    "# Create datasets (include Class labels)\n",
    "train_dataset = ASD_Dataset(train_encodings, train['label'].tolist(), train_subject_ids, train_classes)\n",
    "val_dataset = ASD_Dataset(val_encodings, val['label'].tolist(), val_subject_ids, val_classes)\n",
    "test_dataset = ASD_Dataset(test_encodings, test['label'].tolist(), test_subject_ids, test_classes)"
   ]
  },
  {
   "cell_type": "code",
   "execution_count": 15,
   "metadata": {},
   "outputs": [],
   "source": [
    "import numpy as np\n",
    "import pandas as pd\n",
    "from sklearn.metrics import confusion_matrix, classification_report, roc_curve, roc_auc_score\n",
    "\n",
    "from scipy.special import softmax\n",
    "import matplotlib.pyplot as plt\n",
    "import seaborn as sns\n",
    "import torch\n",
    "from torch.utils.data import Dataset\n",
    "\n",
    "# ... (your existing code for tokenize_and_pad, ASD_Dataset, \n",
    "#      train_dataset, val_dataset, test_dataset) ...\n",
    "\n",
    "def evaluate_predictions(trainer, current_dataset, subject_ids, fold_num, dataset_name,split_num):\n",
    "    \"\"\"\n",
    "    Evaluates model predictions and generates performance metrics.\n",
    "\n",
    "    Args:\n",
    "      trainer: The Hugging Face Trainer object.\n",
    "      current_dataset: The dataset to evaluate (train, val, or test).\n",
    "      subject_ids: List of subject IDs corresponding to the dataset.\n",
    "      fold_num: The current fold number in cross-validation.\n",
    "      dataset_name: Name of the dataset (e.g., 'train', 'val', 'test').\n",
    "\n",
    "    Returns:\n",
    "      A DataFrame containing the results (subject IDs, true labels, predictions, \n",
    "      probabilities, Class).\n",
    "    \"\"\"\n",
    "\n",
    "    # Get predictions\n",
    "    predictions_output = trainer.predict(current_dataset)\n",
    "\n",
    "    # Extract predictions and probabilities\n",
    "    predictions = np.argmax(predictions_output.predictions, axis=-1)\n",
    "    probabilities = softmax(predictions_output.predictions, axis=-1)\n",
    "    true_labels = predictions_output.label_ids\n",
    "\n",
    "    # Get the class labels from the dataset\n",
    "    original_classes = [item['Class'] for item in current_dataset]\n",
    "\n",
    "    # Create a DataFrame from the data\n",
    "    df_results = pd.DataFrame({\n",
    "        'SubjectId': subject_ids,\n",
    "        'True_Labels': true_labels,\n",
    "        'Predictions': predictions,\n",
    "        'Probabilities': list(probabilities),\n",
    "        'Class': original_classes,  # Add the 'Class' column\n",
    "    })\n",
    "\n",
    "    # Confusion matrix and classification report\n",
    "    conf_matrix = confusion_matrix(df_results['True_Labels'], df_results['Predictions'])\n",
    "    class_report = classification_report(df_results['True_Labels'], df_results['Predictions'])\n",
    "\n",
    "    print(f\"Fold {fold_num} - {dataset_name} - Classification Report:\")\n",
    "    print(class_report)\n",
    "\n",
    "    # Plot confusion matrix\n",
    "    plt.figure()\n",
    "    sns.heatmap(conf_matrix, annot=True, fmt='g')\n",
    "    plt.xlabel('Predicted Labels')\n",
    "    plt.ylabel('True Labels')\n",
    "\n",
    "    plt.title(f\"Fold {fold_num} - {dataset_name} - Confusion Matrix\")\n",
    "    plt.show()\n",
    "\n",
    "    # ROC curve and AUROC\n",
    "    y_true = np.array(df_results['True_Labels'])\n",
    "    y_proba = np.array([proba[1] for proba in df_results['Probabilities']])  # Probabilities for class 1\n",
    "    fpr, tpr, _ = roc_curve(y_true, y_proba)\n",
    "    roc_auc = roc_auc_score(y_true, y_proba)\n",
    "\n",
    "    # Plot ROC curve\n",
    "    plt.figure()\n",
    "    plt.plot(fpr, tpr, color='darkorange', lw=2, label='ROC curve (area = %0.2f)' % roc_auc)\n",
    "    plt.plot([0, 1], [0, 1], color='navy', lw=2,\n",
    " linestyle='--')\n",
    "    plt.xlim([0.0, 1.0])\n",
    "    plt.ylim([0.0, 1.05])\n",
    "    plt.xlabel('False Positive Rate')\n",
    "    plt.ylabel('True Positive Rate')\n",
    "    plt.title(f\"Fold {fold_num} - {dataset_name} - Receiver Operating Characteristic\")\n",
    "    plt.legend(loc=\"lower right\")\n",
    "    plt.show()\n",
    "\n",
    "    # Save results to CSV\n",
    "    df_results.to_csv(f'./Split{split_num}_option1_2nd_fold{fold_num}_{dataset_name}_predictions.csv', index=False)\n",
    "\n",
    "    return df_results\n",
    "\n",
    "\n"
   ]
  },
  {
   "cell_type": "code",
   "execution_count": 16,
   "metadata": {},
   "outputs": [
    {
     "data": {
      "application/vnd.jupyter.widget-view+json": {
       "model_id": "34bd2d8f7e0f4497a487c04bdbc51c25",
       "version_major": 2,
       "version_minor": 0
      },
      "text/plain": [
       "  0%|          | 0/57 [00:00<?, ?it/s]"
      ]
     },
     "metadata": {},
     "output_type": "display_data"
    },
    {
     "name": "stdout",
     "output_type": "stream",
     "text": [
      "Fold 42 - train - Classification Report:\n",
      "              precision    recall  f1-score   support\n",
      "\n",
      "           0       0.67      0.90      0.77       156\n",
      "           1       0.93      0.77      0.84       299\n",
      "\n",
      "    accuracy                           0.81       455\n",
      "   macro avg       0.80      0.83      0.81       455\n",
      "weighted avg       0.84      0.81      0.82       455\n",
      "\n"
     ]
    },
    {
     "data": {
      "image/png": "[encoded data removed]",
      "text/plain": [
       "<Figure size 640x480 with 2 Axes>"
      ]
     },
     "metadata": {},
     "output_type": "display_data"
    },
    {
     "data": {
      "image/png": "[encoded data removed]",
      "text/plain": [
       "<Figure size 640x480 with 1 Axes>"
      ]
     },
     "metadata": {},
     "output_type": "display_data"
    }
   ],
   "source": [
    "\n",
    "# Evaluate on train dataset\n",
    "df_results_train = evaluate_predictions(trainer, train_dataset, train_subject_ids, fold_num, \"train\",80_1010)"
   ]
  },
  {
   "cell_type": "code",
   "execution_count": 17,
   "metadata": {},
   "outputs": [
    {
     "data": {
      "application/vnd.jupyter.widget-view+json": {
       "model_id": "05754595e3c0466c85c3c4d3f738f6bd",
       "version_major": 2,
       "version_minor": 0
      },
      "text/plain": [
       "  0%|          | 0/8 [00:00<?, ?it/s]"
      ]
     },
     "metadata": {},
     "output_type": "display_data"
    },
    {
     "name": "stdout",
     "output_type": "stream",
     "text": [
      "Fold 42 - val - Classification Report:\n",
      "              precision    recall  f1-score   support\n",
      "\n",
      "           0       0.65      0.68      0.67        22\n",
      "           1       0.80      0.78      0.79        36\n",
      "\n",
      "    accuracy                           0.74        58\n",
      "   macro avg       0.73      0.73      0.73        58\n",
      "weighted avg       0.74      0.74      0.74        58\n",
      "\n"
     ]
    },
    {
     "data": {
      "image/png": "[encoded data removed]",
      "text/plain": [
       "<Figure size 640x480 with 2 Axes>"
      ]
     },
     "metadata": {},
     "output_type": "display_data"
    },
    {
     "data": {
      "image/png": "[encoded data removed]",
      "text/plain": [
       "<Figure size 640x480 with 1 Axes>"
      ]
     },
     "metadata": {},
     "output_type": "display_data"
    }
   ],
   "source": [
    "# Evaluate on validation dataset\n",
    "df_results_val = evaluate_predictions(trainer, val_dataset, val_subject_ids, fold_num, \"val\",80_1010)"
   ]
  },
  {
   "cell_type": "code",
   "execution_count": 18,
   "metadata": {},
   "outputs": [
    {
     "data": {
      "application/vnd.jupyter.widget-view+json": {
       "model_id": "f4c95368a7df4c4cb3695adad196095d",
       "version_major": 2,
       "version_minor": 0
      },
      "text/plain": [
       "  0%|          | 0/8 [00:00<?, ?it/s]"
      ]
     },
     "metadata": {},
     "output_type": "display_data"
    },
    {
     "name": "stdout",
     "output_type": "stream",
     "text": [
      "Fold 42 - test - Classification Report:\n",
      "              precision    recall  f1-score   support\n",
      "\n",
      "           0       0.68      0.83      0.75        18\n",
      "           1       0.91      0.82      0.86        39\n",
      "\n",
      "    accuracy                           0.82        57\n",
      "   macro avg       0.80      0.83      0.81        57\n",
      "weighted avg       0.84      0.82      0.83        57\n",
      "\n"
     ]
    },
    {
     "data": {
      "image/png": "[encoded data removed]",
      "text/plain": [
       "<Figure size 640x480 with 2 Axes>"
      ]
     },
     "metadata": {},
     "output_type": "display_data"
    },
    {
     "data": {
      "image/png": "[encoded data removed]",
      "text/plain": [
       "<Figure size 640x480 with 1 Axes>"
      ]
     },
     "metadata": {},
     "output_type": "display_data"
    }
   ],
   "source": [
    "\n",
    "# Evaluate on test dataset\n",
    "df_results_test = evaluate_predictions(trainer, test_dataset, test_subject_ids, fold_num, \"test\",80_1010)"
   ]
  },
  {
   "cell_type": "code",
   "execution_count": 19,
   "metadata": {},
   "outputs": [],
   "source": [
    "model_num = 20250102\n",
    "split = 80_1010\n",
    "# Create an empty list to store the results DataFrames\n",
    "all_results = []\n",
    "\n",
    "# Evaluate on train dataset\n",
    "# df_results_train = evaluate_predictions(trainer, train_dataset, train_subject_ids, fold_num, \"train\")\n",
    "df_results_train['type']='train'\n",
    "all_results.append(df_results_train)\n",
    "\n",
    "# Evaluate on validation dataset\n",
    "# df_results_val = evaluate_predictions(trainer, val_dataset, val_subject_ids, fold_num, \"val\")\n",
    "df_results_val['type']='val'\n",
    "all_results.append(df_results_val)\n",
    "\n",
    "# Evaluate on test dataset\n",
    "# df_results_test = evaluate_predictions(trainer, test_dataset, test_subject_ids, fold_num, \"test\")\n",
    "df_results_test['type']='test'\n",
    "all_results.append(df_results_test)\n",
    "\n",
    "# Concatenate all results into a single DataFrame\n",
    "df_all_results = pd.concat(all_results, ignore_index=True)\n",
    "df_all_results['fold_num'] = fold_num\n",
    "df_all_results['model_num'] = model_num\n",
    "\n",
    "# Save the concatenated DataFrame to CSV\n",
    "df_all_results.to_csv(f'./1004_20250102_Split{split}_fold{fold_num}_seed_model{model_num}_all_predictions.csv', index=False) # fold0_labelsplit_opt2_all_predictions.csv"
   ]
  }
 ],
 "metadata": {
  "kernelspec": {
   "display_name": "new_llm",
   "language": "python",
   "name": "python3"
  },
  "language_info": {
   "codemirror_mode": {
    "name": "ipython",
    "version": 3
   },
   "file_extension": ".py",
   "mimetype": "text/x-python",
   "name": "python",
   "nbconvert_exporter": "python",
   "pygments_lexer": "ipython3",
   "version": "3.9.18"
  }
 },
 "nbformat": 4,
 "nbformat_minor": 2
}
